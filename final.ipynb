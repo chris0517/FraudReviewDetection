{
 "cells": [
  {
   "cell_type": "code",
   "execution_count": 5,
   "metadata": {},
   "outputs": [],
   "source": [
    "import pandas as pd\n",
    "import numpy as np\n",
    "from sklearn.model_selection import train_test_split\n",
    "from sklearn.feature_extraction.text import TfidfVectorizer\n",
    "from sklearn.preprocessing import LabelEncoder\n",
    "import matplotlib.pyplot as plt\n",
    "import seaborn as sns\n",
    "\n",
    "df = pd.read_csv(\"Data/fake reviews dataset.csv\")"
   ]
  },
  {
   "cell_type": "code",
   "execution_count": 6,
   "metadata": {},
   "outputs": [
    {
     "name": "stdout",
     "output_type": "stream",
     "text": [
      "category    0\n",
      "rating      0\n",
      "label       0\n",
      "text_       0\n",
      "dtype: int64\n"
     ]
    },
    {
     "data": {
      "text/html": [
       "<div>\n",
       "<style scoped>\n",
       "    .dataframe tbody tr th:only-of-type {\n",
       "        vertical-align: middle;\n",
       "    }\n",
       "\n",
       "    .dataframe tbody tr th {\n",
       "        vertical-align: top;\n",
       "    }\n",
       "\n",
       "    .dataframe thead th {\n",
       "        text-align: right;\n",
       "    }\n",
       "</style>\n",
       "<table border=\"1\" class=\"dataframe\">\n",
       "  <thead>\n",
       "    <tr style=\"text-align: right;\">\n",
       "      <th></th>\n",
       "      <th>category</th>\n",
       "      <th>rating</th>\n",
       "      <th>type</th>\n",
       "      <th>comments</th>\n",
       "    </tr>\n",
       "  </thead>\n",
       "  <tbody>\n",
       "    <tr>\n",
       "      <th>0</th>\n",
       "      <td>Home and Kitchen</td>\n",
       "      <td>5.0</td>\n",
       "      <td>1</td>\n",
       "      <td>Love this!  Well made, sturdy, and very comfor...</td>\n",
       "    </tr>\n",
       "    <tr>\n",
       "      <th>1</th>\n",
       "      <td>Home and Kitchen</td>\n",
       "      <td>5.0</td>\n",
       "      <td>1</td>\n",
       "      <td>love it, a great upgrade from the original.  I...</td>\n",
       "    </tr>\n",
       "    <tr>\n",
       "      <th>2</th>\n",
       "      <td>Home and Kitchen</td>\n",
       "      <td>5.0</td>\n",
       "      <td>1</td>\n",
       "      <td>This pillow saved my back. I love the look and...</td>\n",
       "    </tr>\n",
       "    <tr>\n",
       "      <th>3</th>\n",
       "      <td>Home and Kitchen</td>\n",
       "      <td>1.0</td>\n",
       "      <td>1</td>\n",
       "      <td>Missing information on how to use it, but it i...</td>\n",
       "    </tr>\n",
       "    <tr>\n",
       "      <th>4</th>\n",
       "      <td>Home and Kitchen</td>\n",
       "      <td>5.0</td>\n",
       "      <td>1</td>\n",
       "      <td>Very nice set. Good quality. We have had the s...</td>\n",
       "    </tr>\n",
       "  </tbody>\n",
       "</table>\n",
       "</div>"
      ],
      "text/plain": [
       "           category  rating  type  \\\n",
       "0  Home and Kitchen     5.0     1   \n",
       "1  Home and Kitchen     5.0     1   \n",
       "2  Home and Kitchen     5.0     1   \n",
       "3  Home and Kitchen     1.0     1   \n",
       "4  Home and Kitchen     5.0     1   \n",
       "\n",
       "                                            comments  \n",
       "0  Love this!  Well made, sturdy, and very comfor...  \n",
       "1  love it, a great upgrade from the original.  I...  \n",
       "2  This pillow saved my back. I love the look and...  \n",
       "3  Missing information on how to use it, but it i...  \n",
       "4  Very nice set. Good quality. We have had the s...  "
      ]
     },
     "execution_count": 6,
     "metadata": {},
     "output_type": "execute_result"
    }
   ],
   "source": [
    "# Clean up the category names\n",
    "old_cat = ['Home_and_Kitchen_5', 'Sports_and_Outdoors_5', 'Electronics_5',\n",
    "       'Movies_and_TV_5', 'Tools_and_Home_Improvement_5',\n",
    "       'Pet_Supplies_5', 'Kindle_Store_5', 'Books_5', 'Toys_and_Games_5',\n",
    "       'Clothing_Shoes_and_Jewelry_5']\n",
    "new_cat = ['Home and Kitchen', 'Sports and Outdoors', 'Electronics',\n",
    "        'Movies and TV', 'Tools and Home Improvement',\n",
    "        'Pet Supplies', 'Kindle Store', 'Books', 'Toys and Games',\n",
    "        'Clothing Shoes and Jewelry']\n",
    "df['category'].replace(to_replace=old_cat, value=new_cat, inplace=True)\n",
    "\n",
    "# Remove any duplicate rows, then check for NA values for each column\n",
    "df = df.drop_duplicates(subset='text_')\n",
    "df['text_'].replace(\".   .                   \", np.nan, inplace=True)\n",
    "df.dropna(subset=['text_'], inplace=True)\n",
    "\n",
    "print(df.isnull().sum())\n",
    "\n",
    "# Rename columns so that they are more descriptive\n",
    "colnames_dict = {\"label\": \"type\", \"text_\": \"comments\"}\n",
    "df.rename(columns=colnames_dict, inplace=True)\n",
    "\n",
    "# Map the type column to numeric/boolean values:\n",
    "  # OR (Original reviews, presumably human-created and authentic) = 0\n",
    "  # CG (Computer-generated fake reviews) = 1\n",
    "\n",
    "type_dict_map = {'OR': 0 ,'CG':1}\n",
    "df['type'] = df['type'].map(type_dict_map)\n",
    "df.head()"
   ]
  },
  {
   "cell_type": "code",
   "execution_count": 7,
   "metadata": {},
   "outputs": [
    {
     "name": "stdout",
     "output_type": "stream",
     "text": [
      "(28287, 2)\n",
      "(12124, 2)\n",
      "(28287, 1)\n",
      "(12124, 1)\n"
     ]
    }
   ],
   "source": [
    "\n",
    "target_var  = 'type'\n",
    "feature_var = [ 'rating', 'comments']\n",
    "X = df[feature_var]\n",
    "y = df[target_var]\n",
    "\n",
    "X_train, X_test, y_train, y_test = train_test_split(X, y, test_size=0.3, shuffle=True, random_state=101)\n",
    "y_train = y_train.values.reshape(-1, 1)\n",
    "y_test = y_test.values.reshape(-1, 1)\n",
    "\n",
    "print(X_train.shape)\n",
    "print(X_test.shape)\n",
    "print(y_train.shape)\n",
    "print(y_test.shape)"
   ]
  },
  {
   "cell_type": "code",
   "execution_count": 8,
   "metadata": {},
   "outputs": [
    {
     "name": "stdout",
     "output_type": "stream",
     "text": [
      "Training Accuracy: 0.8698341994555803\n",
      "Testing Accuracy: 0.7523094688221709\n"
     ]
    }
   ],
   "source": [
    "from sklearn.pipeline import Pipeline\n",
    "from sklearn.naive_bayes import GaussianNB\n",
    "\n",
    "# Define the pipeline\n",
    "pipeline = Pipeline([\n",
    "    ('tfidf', TfidfVectorizer()),  # TF-IDF vectorizer\n",
    "    ('classifier', GaussianNB())    # Gaussian Naive Bayes classifier\n",
    "])\n",
    "\n",
    "# Fit the pipeline on the training data\n",
    "X_train_tfidf = pipeline.named_steps['tfidf'].fit_transform(X_train['comments'])\n",
    "pipeline.named_steps['classifier'].fit(X_train_tfidf.toarray(), y_train.ravel())\n",
    "\n",
    "# Evaluate the model\n",
    "X_test_tfidf = pipeline.named_steps['tfidf'].transform(X_test['comments'])\n",
    "train_accuracy = pipeline.named_steps['classifier'].score(X_train_tfidf.toarray(), y_train)\n",
    "test_accuracy = pipeline.named_steps['classifier'].score(X_test_tfidf.toarray(), y_test)\n",
    "\n",
    "print(\"Training Accuracy:\", train_accuracy)\n",
    "print(\"Testing Accuracy:\", test_accuracy)\n"
   ]
  },
  {
   "cell_type": "code",
   "execution_count": 14,
   "metadata": {},
   "outputs": [
    {
     "name": "stdout",
     "output_type": "stream",
     "text": [
      "Original review (OR)\n"
     ]
    }
   ],
   "source": [
    "# Ask for user input\n",
    "rating = int(input(\"Enter the rating (1-5): \"))\n",
    "comment = input(\"Enter the comment: \")\n",
    "\n",
    "# Create a DataFrame with the user input\n",
    "user_data = pd.DataFrame({'rating': [rating],\n",
    "                          'comments': [comment]})\n",
    "\n",
    "# Transform the user input using the TF-IDF vectorizer\n",
    "user_data_tfidf = pipeline.named_steps['tfidf'].transform(user_data['comments'])\n",
    "\n",
    "# Predict the output using the trained classifier\n",
    "prediction = pipeline.named_steps['classifier'].predict(user_data_tfidf.toarray())\n",
    "\n",
    "# Print the prediction\n",
    "if prediction[0] == 0:\n",
    "    print(\"Original review (OR)\")\n",
    "else:\n",
    "    print(\"Computer-generated fake review (CG)\")\n"
   ]
  },
  {
   "cell_type": "markdown",
   "metadata": {},
   "source": [
    "<br>\n",
    "<br>\n",
    "<br>\n",
    "<br>\n",
    "<br>\n",
    "Below are backup code that didn't really work\n"
   ]
  },
  {
   "cell_type": "code",
   "execution_count": null,
   "metadata": {},
   "outputs": [],
   "source": [
    "#Transform each comment row into tfidf array\n",
    "df['comments'] = df['comments'].astype(str)\n",
    "\n",
    "vectorizer = TfidfVectorizer()\n",
    "# print(df['comments'])\n",
    "for index, row in df.iterrows():\n",
    "    # Transform the comment into a TF-IDF array\n",
    "    comment = row['comments']\n",
    "    # Check if the comment is empty or contains only stop words\n",
    "    \n",
    "\n",
    "    # Transform the comment into a TF-IDF array\n",
    "    comment_tfidf = vectorizer.fit_transform([comment]).toarray()\n",
    "    # Replace the original comment with its TF-IDF array\n",
    "    df.at[index, 'comments'] = comment_tfidf\n",
    "\n",
    "# response = vectorizer.fit_transform(df['comments'])\n",
    "# df['comments'] = response.getnnz()\n"
   ]
  },
  {
   "cell_type": "code",
   "execution_count": null,
   "metadata": {},
   "outputs": [],
   "source": [
    "from sklearn.naive_bayes import GaussianNB\n",
    "from sklearn.metrics import accuracy_score\n",
    "from sklearn.feature_extraction.text import CountVectorizer\n",
    "from sklearn.pipeline import make_pipeline\n",
    "\n",
    "# Initialize the Naive Bayes classifier\n",
    "model = GaussianNB()\n",
    "print(\"error1\")\n",
    "# Train the classifier\n",
    "model.fit(X_train, y_train)\n",
    "print(\"error2\")\n",
    "\n",
    "# Predictions on the training set\n",
    "train_preds = model.predict(X_train)\n",
    "print(\"error3\")\n",
    "\n",
    "# Predictions on the testing set\n",
    "test_preds = model.predict(X_test)\n",
    "\n",
    "# Evaluate the model\n",
    "train_accuracy = accuracy_score(y_train, train_preds)\n",
    "test_accuracy = accuracy_score(y_test, test_preds)\n",
    "\n",
    "print(\"Training Accuracy:\", train_accuracy)\n",
    "print(\"Testing Accuracy:\", test_accuracy)\n"
   ]
  },
  {
   "cell_type": "code",
   "execution_count": null,
   "metadata": {},
   "outputs": [],
   "source": []
  }
 ],
 "metadata": {
  "kernelspec": {
   "display_name": "base",
   "language": "python",
   "name": "python3"
  },
  "language_info": {
   "codemirror_mode": {
    "name": "ipython",
    "version": 3
   },
   "file_extension": ".py",
   "mimetype": "text/x-python",
   "name": "python",
   "nbconvert_exporter": "python",
   "pygments_lexer": "ipython3",
   "version": "3.10.9"
  }
 },
 "nbformat": 4,
 "nbformat_minor": 2
}
