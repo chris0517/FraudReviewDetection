{
 "cells": [
  {
   "cell_type": "code",
   "execution_count": 44,
   "metadata": {},
   "outputs": [],
   "source": [
    "import pandas as pd\n",
    "import numpy as np\n",
    "from sklearn.model_selection import train_test_split\n",
    "from sklearn.feature_extraction.text import TfidfVectorizer\n",
    "from sklearn.preprocessing import LabelEncoder\n",
    "import matplotlib.pyplot as plt\n",
    "import seaborn as sns"
   ]
  },
  {
   "cell_type": "code",
   "execution_count": 45,
   "metadata": {},
   "outputs": [],
   "source": [
    "df = pd.read_csv(\"Data/fake reviews dataset.csv\")"
   ]
  },
  {
   "cell_type": "code",
   "execution_count": 46,
   "metadata": {},
   "outputs": [
    {
     "data": {
      "text/html": [
       "<div>\n",
       "<style scoped>\n",
       "    .dataframe tbody tr th:only-of-type {\n",
       "        vertical-align: middle;\n",
       "    }\n",
       "\n",
       "    .dataframe tbody tr th {\n",
       "        vertical-align: top;\n",
       "    }\n",
       "\n",
       "    .dataframe thead th {\n",
       "        text-align: right;\n",
       "    }\n",
       "</style>\n",
       "<table border=\"1\" class=\"dataframe\">\n",
       "  <thead>\n",
       "    <tr style=\"text-align: right;\">\n",
       "      <th></th>\n",
       "      <th>category</th>\n",
       "      <th>rating</th>\n",
       "      <th>label</th>\n",
       "      <th>text_</th>\n",
       "    </tr>\n",
       "  </thead>\n",
       "  <tbody>\n",
       "    <tr>\n",
       "      <th>0</th>\n",
       "      <td>Home_and_Kitchen_5</td>\n",
       "      <td>5.0</td>\n",
       "      <td>CG</td>\n",
       "      <td>Love this!  Well made, sturdy, and very comfor...</td>\n",
       "    </tr>\n",
       "    <tr>\n",
       "      <th>1</th>\n",
       "      <td>Home_and_Kitchen_5</td>\n",
       "      <td>5.0</td>\n",
       "      <td>CG</td>\n",
       "      <td>love it, a great upgrade from the original.  I...</td>\n",
       "    </tr>\n",
       "    <tr>\n",
       "      <th>2</th>\n",
       "      <td>Home_and_Kitchen_5</td>\n",
       "      <td>5.0</td>\n",
       "      <td>CG</td>\n",
       "      <td>This pillow saved my back. I love the look and...</td>\n",
       "    </tr>\n",
       "    <tr>\n",
       "      <th>3</th>\n",
       "      <td>Home_and_Kitchen_5</td>\n",
       "      <td>1.0</td>\n",
       "      <td>CG</td>\n",
       "      <td>Missing information on how to use it, but it i...</td>\n",
       "    </tr>\n",
       "    <tr>\n",
       "      <th>4</th>\n",
       "      <td>Home_and_Kitchen_5</td>\n",
       "      <td>5.0</td>\n",
       "      <td>CG</td>\n",
       "      <td>Very nice set. Good quality. We have had the s...</td>\n",
       "    </tr>\n",
       "  </tbody>\n",
       "</table>\n",
       "</div>"
      ],
      "text/plain": [
       "             category  rating label  \\\n",
       "0  Home_and_Kitchen_5     5.0    CG   \n",
       "1  Home_and_Kitchen_5     5.0    CG   \n",
       "2  Home_and_Kitchen_5     5.0    CG   \n",
       "3  Home_and_Kitchen_5     1.0    CG   \n",
       "4  Home_and_Kitchen_5     5.0    CG   \n",
       "\n",
       "                                               text_  \n",
       "0  Love this!  Well made, sturdy, and very comfor...  \n",
       "1  love it, a great upgrade from the original.  I...  \n",
       "2  This pillow saved my back. I love the look and...  \n",
       "3  Missing information on how to use it, but it i...  \n",
       "4  Very nice set. Good quality. We have had the s...  "
      ]
     },
     "execution_count": 46,
     "metadata": {},
     "output_type": "execute_result"
    }
   ],
   "source": [
    "df.head()"
   ]
  },
  {
   "cell_type": "code",
   "execution_count": 47,
   "metadata": {},
   "outputs": [
    {
     "data": {
      "text/plain": [
       "(40432, 4)"
      ]
     },
     "execution_count": 47,
     "metadata": {},
     "output_type": "execute_result"
    }
   ],
   "source": [
    "df.shape"
   ]
  },
  {
   "cell_type": "code",
   "execution_count": 48,
   "metadata": {},
   "outputs": [
    {
     "data": {
      "text/plain": [
       "array(['Home_and_Kitchen_5', 'Sports_and_Outdoors_5', 'Electronics_5',\n",
       "       'Movies_and_TV_5', 'Tools_and_Home_Improvement_5',\n",
       "       'Pet_Supplies_5', 'Kindle_Store_5', 'Books_5', 'Toys_and_Games_5',\n",
       "       'Clothing_Shoes_and_Jewelry_5'], dtype=object)"
      ]
     },
     "execution_count": 48,
     "metadata": {},
     "output_type": "execute_result"
    }
   ],
   "source": [
    "df['category'].unique()"
   ]
  },
  {
   "cell_type": "code",
   "execution_count": 49,
   "metadata": {},
   "outputs": [],
   "source": [
    "# Clean up the category names\n",
    "old_cat = ['Home_and_Kitchen_5', 'Sports_and_Outdoors_5', 'Electronics_5',\n",
    "       'Movies_and_TV_5', 'Tools_and_Home_Improvement_5',\n",
    "       'Pet_Supplies_5', 'Kindle_Store_5', 'Books_5', 'Toys_and_Games_5',\n",
    "       'Clothing_Shoes_and_Jewelry_5']\n",
    "new_cat = ['Home and Kitchen', 'Sports and Outdoors', 'Electronics',\n",
    "        'Movies and TV', 'Tools and Home Improvement',\n",
    "        'Pet Supplies', 'Kindle Store', 'Books', 'Toys and Games',\n",
    "        'Clothing Shoes and Jewelry']\n",
    "df['category'].replace(to_replace=old_cat, value=new_cat, inplace=True)"
   ]
  },
  {
   "cell_type": "code",
   "execution_count": 50,
   "metadata": {},
   "outputs": [
    {
     "data": {
      "text/plain": [
       "array(['CG', 'OR'], dtype=object)"
      ]
     },
     "execution_count": 50,
     "metadata": {},
     "output_type": "execute_result"
    }
   ],
   "source": [
    "df['label'].unique()"
   ]
  },
  {
   "cell_type": "code",
   "execution_count": 51,
   "metadata": {},
   "outputs": [
    {
     "name": "stdout",
     "output_type": "stream",
     "text": [
      "category    0\n",
      "rating      0\n",
      "label       0\n",
      "text_       0\n",
      "dtype: int64\n"
     ]
    }
   ],
   "source": [
    "# Remove any duplicate rows, then check for NA values for each column\n",
    "df = df.drop_duplicates(subset='text_')\n",
    "print(df.isnull().sum())"
   ]
  },
  {
   "cell_type": "code",
   "execution_count": 52,
   "metadata": {},
   "outputs": [
    {
     "data": {
      "text/html": [
       "<div>\n",
       "<style scoped>\n",
       "    .dataframe tbody tr th:only-of-type {\n",
       "        vertical-align: middle;\n",
       "    }\n",
       "\n",
       "    .dataframe tbody tr th {\n",
       "        vertical-align: top;\n",
       "    }\n",
       "\n",
       "    .dataframe thead th {\n",
       "        text-align: right;\n",
       "    }\n",
       "</style>\n",
       "<table border=\"1\" class=\"dataframe\">\n",
       "  <thead>\n",
       "    <tr style=\"text-align: right;\">\n",
       "      <th></th>\n",
       "      <th>category</th>\n",
       "      <th>rating</th>\n",
       "      <th>type</th>\n",
       "      <th>comments</th>\n",
       "    </tr>\n",
       "  </thead>\n",
       "  <tbody>\n",
       "    <tr>\n",
       "      <th>0</th>\n",
       "      <td>Home and Kitchen</td>\n",
       "      <td>5.0</td>\n",
       "      <td>CG</td>\n",
       "      <td>Love this!  Well made, sturdy, and very comfor...</td>\n",
       "    </tr>\n",
       "    <tr>\n",
       "      <th>1</th>\n",
       "      <td>Home and Kitchen</td>\n",
       "      <td>5.0</td>\n",
       "      <td>CG</td>\n",
       "      <td>love it, a great upgrade from the original.  I...</td>\n",
       "    </tr>\n",
       "    <tr>\n",
       "      <th>2</th>\n",
       "      <td>Home and Kitchen</td>\n",
       "      <td>5.0</td>\n",
       "      <td>CG</td>\n",
       "      <td>This pillow saved my back. I love the look and...</td>\n",
       "    </tr>\n",
       "    <tr>\n",
       "      <th>3</th>\n",
       "      <td>Home and Kitchen</td>\n",
       "      <td>1.0</td>\n",
       "      <td>CG</td>\n",
       "      <td>Missing information on how to use it, but it i...</td>\n",
       "    </tr>\n",
       "    <tr>\n",
       "      <th>4</th>\n",
       "      <td>Home and Kitchen</td>\n",
       "      <td>5.0</td>\n",
       "      <td>CG</td>\n",
       "      <td>Very nice set. Good quality. We have had the s...</td>\n",
       "    </tr>\n",
       "  </tbody>\n",
       "</table>\n",
       "</div>"
      ],
      "text/plain": [
       "           category  rating type  \\\n",
       "0  Home and Kitchen     5.0   CG   \n",
       "1  Home and Kitchen     5.0   CG   \n",
       "2  Home and Kitchen     5.0   CG   \n",
       "3  Home and Kitchen     1.0   CG   \n",
       "4  Home and Kitchen     5.0   CG   \n",
       "\n",
       "                                            comments  \n",
       "0  Love this!  Well made, sturdy, and very comfor...  \n",
       "1  love it, a great upgrade from the original.  I...  \n",
       "2  This pillow saved my back. I love the look and...  \n",
       "3  Missing information on how to use it, but it i...  \n",
       "4  Very nice set. Good quality. We have had the s...  "
      ]
     },
     "execution_count": 52,
     "metadata": {},
     "output_type": "execute_result"
    }
   ],
   "source": [
    "# Rename columns so that they are more descriptive\n",
    "colnames_dict = {\"label\": \"type\", \"text_\": \"comments\"}\n",
    "df.rename(columns=colnames_dict, inplace=True)\n",
    "\n",
    "df.head()"
   ]
  },
  {
   "cell_type": "code",
   "execution_count": 53,
   "metadata": {},
   "outputs": [
    {
     "data": {
      "text/plain": [
       "OR    20215\n",
       "CG    20197\n",
       "Name: type, dtype: int64"
      ]
     },
     "execution_count": 53,
     "metadata": {},
     "output_type": "execute_result"
    }
   ],
   "source": [
    "# Distribution of Type column\n",
    "df['type'].value_counts()"
   ]
  },
  {
   "cell_type": "code",
   "execution_count": 54,
   "metadata": {},
   "outputs": [
    {
     "data": {
      "text/plain": [
       "Kindle Store                  4727\n",
       "Books                         4369\n",
       "Pet Supplies                  4251\n",
       "Home and Kitchen              4055\n",
       "Electronics                   3988\n",
       "Sports and Outdoors           3943\n",
       "Tools and Home Improvement    3858\n",
       "Clothing Shoes and Jewelry    3845\n",
       "Toys and Games                3791\n",
       "Movies and TV                 3585\n",
       "Name: category, dtype: int64"
      ]
     },
     "execution_count": 54,
     "metadata": {},
     "output_type": "execute_result"
    }
   ],
   "source": [
    "# Distribution of Category column\n",
    "df['category'].value_counts()"
   ]
  },
  {
   "cell_type": "code",
   "execution_count": 55,
   "metadata": {},
   "outputs": [],
   "source": [
    "# Map the type column to numeric/boolean values:\n",
    "  # OR (Original reviews, presumably human-created and authentic) = 0\n",
    "  # CG (Computer-generated fake reviews) = 1\n",
    "\n",
    "type_dict_map = {'OR': 0 ,'CG':1}\n",
    "df['type'] = df['type'].map(type_dict_map)"
   ]
  },
  {
   "cell_type": "code",
   "execution_count": 58,
   "metadata": {},
   "outputs": [
    {
     "name": "stdout",
     "output_type": "stream",
     "text": [
      "Index(['category', 'rating', 'type', 'comments', 'Books',\n",
      "       'Clothing Shoes and Jewelry', 'Electronics', 'Home and Kitchen',\n",
      "       'Kindle Store', 'Movies and TV', 'Pet Supplies', 'Sports and Outdoors',\n",
      "       'Tools and Home Improvement', 'Toys and Games', 'Books',\n",
      "       'Clothing Shoes and Jewelry', 'Electronics', 'Home and Kitchen',\n",
      "       'Kindle Store', 'Movies and TV', 'Pet Supplies', 'Sports and Outdoors',\n",
      "       'Tools and Home Improvement', 'Toys and Games'],\n",
      "      dtype='object')\n"
     ]
    }
   ],
   "source": [
    "df_dummies = pd.get_dummies(df['category'])\n",
    "\n",
    "df = pd.concat([df, df_dummies], axis=1)\n",
    "print(df.columns)"
   ]
  },
  {
   "cell_type": "code",
   "execution_count": 59,
   "metadata": {},
   "outputs": [
    {
     "data": {
      "text/html": [
       "<div>\n",
       "<style scoped>\n",
       "    .dataframe tbody tr th:only-of-type {\n",
       "        vertical-align: middle;\n",
       "    }\n",
       "\n",
       "    .dataframe tbody tr th {\n",
       "        vertical-align: top;\n",
       "    }\n",
       "\n",
       "    .dataframe thead th {\n",
       "        text-align: right;\n",
       "    }\n",
       "</style>\n",
       "<table border=\"1\" class=\"dataframe\">\n",
       "  <thead>\n",
       "    <tr style=\"text-align: right;\">\n",
       "      <th></th>\n",
       "      <th>category</th>\n",
       "      <th>rating</th>\n",
       "      <th>type</th>\n",
       "      <th>comments</th>\n",
       "      <th>Books</th>\n",
       "      <th>Clothing Shoes and Jewelry</th>\n",
       "      <th>Electronics</th>\n",
       "      <th>Home and Kitchen</th>\n",
       "      <th>Kindle Store</th>\n",
       "      <th>Movies and TV</th>\n",
       "      <th>...</th>\n",
       "      <th>Books</th>\n",
       "      <th>Clothing Shoes and Jewelry</th>\n",
       "      <th>Electronics</th>\n",
       "      <th>Home and Kitchen</th>\n",
       "      <th>Kindle Store</th>\n",
       "      <th>Movies and TV</th>\n",
       "      <th>Pet Supplies</th>\n",
       "      <th>Sports and Outdoors</th>\n",
       "      <th>Tools and Home Improvement</th>\n",
       "      <th>Toys and Games</th>\n",
       "    </tr>\n",
       "  </thead>\n",
       "  <tbody>\n",
       "    <tr>\n",
       "      <th>0</th>\n",
       "      <td>Home and Kitchen</td>\n",
       "      <td>5.0</td>\n",
       "      <td>1</td>\n",
       "      <td>Love this!  Well made, sturdy, and very comfor...</td>\n",
       "      <td>0</td>\n",
       "      <td>0</td>\n",
       "      <td>0</td>\n",
       "      <td>1</td>\n",
       "      <td>0</td>\n",
       "      <td>0</td>\n",
       "      <td>...</td>\n",
       "      <td>0</td>\n",
       "      <td>0</td>\n",
       "      <td>0</td>\n",
       "      <td>1</td>\n",
       "      <td>0</td>\n",
       "      <td>0</td>\n",
       "      <td>0</td>\n",
       "      <td>0</td>\n",
       "      <td>0</td>\n",
       "      <td>0</td>\n",
       "    </tr>\n",
       "    <tr>\n",
       "      <th>1</th>\n",
       "      <td>Home and Kitchen</td>\n",
       "      <td>5.0</td>\n",
       "      <td>1</td>\n",
       "      <td>love it, a great upgrade from the original.  I...</td>\n",
       "      <td>0</td>\n",
       "      <td>0</td>\n",
       "      <td>0</td>\n",
       "      <td>1</td>\n",
       "      <td>0</td>\n",
       "      <td>0</td>\n",
       "      <td>...</td>\n",
       "      <td>0</td>\n",
       "      <td>0</td>\n",
       "      <td>0</td>\n",
       "      <td>1</td>\n",
       "      <td>0</td>\n",
       "      <td>0</td>\n",
       "      <td>0</td>\n",
       "      <td>0</td>\n",
       "      <td>0</td>\n",
       "      <td>0</td>\n",
       "    </tr>\n",
       "    <tr>\n",
       "      <th>2</th>\n",
       "      <td>Home and Kitchen</td>\n",
       "      <td>5.0</td>\n",
       "      <td>1</td>\n",
       "      <td>This pillow saved my back. I love the look and...</td>\n",
       "      <td>0</td>\n",
       "      <td>0</td>\n",
       "      <td>0</td>\n",
       "      <td>1</td>\n",
       "      <td>0</td>\n",
       "      <td>0</td>\n",
       "      <td>...</td>\n",
       "      <td>0</td>\n",
       "      <td>0</td>\n",
       "      <td>0</td>\n",
       "      <td>1</td>\n",
       "      <td>0</td>\n",
       "      <td>0</td>\n",
       "      <td>0</td>\n",
       "      <td>0</td>\n",
       "      <td>0</td>\n",
       "      <td>0</td>\n",
       "    </tr>\n",
       "    <tr>\n",
       "      <th>3</th>\n",
       "      <td>Home and Kitchen</td>\n",
       "      <td>1.0</td>\n",
       "      <td>1</td>\n",
       "      <td>Missing information on how to use it, but it i...</td>\n",
       "      <td>0</td>\n",
       "      <td>0</td>\n",
       "      <td>0</td>\n",
       "      <td>1</td>\n",
       "      <td>0</td>\n",
       "      <td>0</td>\n",
       "      <td>...</td>\n",
       "      <td>0</td>\n",
       "      <td>0</td>\n",
       "      <td>0</td>\n",
       "      <td>1</td>\n",
       "      <td>0</td>\n",
       "      <td>0</td>\n",
       "      <td>0</td>\n",
       "      <td>0</td>\n",
       "      <td>0</td>\n",
       "      <td>0</td>\n",
       "    </tr>\n",
       "    <tr>\n",
       "      <th>4</th>\n",
       "      <td>Home and Kitchen</td>\n",
       "      <td>5.0</td>\n",
       "      <td>1</td>\n",
       "      <td>Very nice set. Good quality. We have had the s...</td>\n",
       "      <td>0</td>\n",
       "      <td>0</td>\n",
       "      <td>0</td>\n",
       "      <td>1</td>\n",
       "      <td>0</td>\n",
       "      <td>0</td>\n",
       "      <td>...</td>\n",
       "      <td>0</td>\n",
       "      <td>0</td>\n",
       "      <td>0</td>\n",
       "      <td>1</td>\n",
       "      <td>0</td>\n",
       "      <td>0</td>\n",
       "      <td>0</td>\n",
       "      <td>0</td>\n",
       "      <td>0</td>\n",
       "      <td>0</td>\n",
       "    </tr>\n",
       "  </tbody>\n",
       "</table>\n",
       "<p>5 rows × 24 columns</p>\n",
       "</div>"
      ],
      "text/plain": [
       "           category  rating  type  \\\n",
       "0  Home and Kitchen     5.0     1   \n",
       "1  Home and Kitchen     5.0     1   \n",
       "2  Home and Kitchen     5.0     1   \n",
       "3  Home and Kitchen     1.0     1   \n",
       "4  Home and Kitchen     5.0     1   \n",
       "\n",
       "                                            comments  Books  \\\n",
       "0  Love this!  Well made, sturdy, and very comfor...      0   \n",
       "1  love it, a great upgrade from the original.  I...      0   \n",
       "2  This pillow saved my back. I love the look and...      0   \n",
       "3  Missing information on how to use it, but it i...      0   \n",
       "4  Very nice set. Good quality. We have had the s...      0   \n",
       "\n",
       "   Clothing Shoes and Jewelry  Electronics  Home and Kitchen  Kindle Store  \\\n",
       "0                           0            0                 1             0   \n",
       "1                           0            0                 1             0   \n",
       "2                           0            0                 1             0   \n",
       "3                           0            0                 1             0   \n",
       "4                           0            0                 1             0   \n",
       "\n",
       "   Movies and TV  ...  Books  Clothing Shoes and Jewelry  Electronics  \\\n",
       "0              0  ...      0                           0            0   \n",
       "1              0  ...      0                           0            0   \n",
       "2              0  ...      0                           0            0   \n",
       "3              0  ...      0                           0            0   \n",
       "4              0  ...      0                           0            0   \n",
       "\n",
       "   Home and Kitchen  Kindle Store  Movies and TV  Pet Supplies  \\\n",
       "0                 1             0              0             0   \n",
       "1                 1             0              0             0   \n",
       "2                 1             0              0             0   \n",
       "3                 1             0              0             0   \n",
       "4                 1             0              0             0   \n",
       "\n",
       "   Sports and Outdoors  Tools and Home Improvement  Toys and Games  \n",
       "0                    0                           0               0  \n",
       "1                    0                           0               0  \n",
       "2                    0                           0               0  \n",
       "3                    0                           0               0  \n",
       "4                    0                           0               0  \n",
       "\n",
       "[5 rows x 24 columns]"
      ]
     },
     "execution_count": 59,
     "metadata": {},
     "output_type": "execute_result"
    }
   ],
   "source": [
    "df.head()"
   ]
  },
  {
   "cell_type": "code",
   "execution_count": 60,
   "metadata": {},
   "outputs": [
    {
     "name": "stdout",
     "output_type": "stream",
     "text": [
      "{'thor': 25, 'eating': 10, 'pizza': 22, 'loki': 17, 'is': 16, 'ironman': 15, 'ate': 7, 'already': 0, 'apple': 5, 'announcing': 4, 'new': 20, 'iphone': 14, 'tomorrow': 26, 'tesla': 24, 'model': 19, 'google': 12, 'pixel': 21, 'microsoft': 18, 'surface': 23, 'amazon': 2, 'eco': 11, 'dot': 9, 'am': 1, 'biryani': 8, 'and': 3, 'you': 27, 'are': 6, 'grapes': 13}\n"
     ]
    }
   ],
   "source": [
    "# Sample\n",
    "corpus = [\n",
    "    \"Thor eating pizza, Loki is eating pizza, Ironman ate pizza already\",\n",
    "    \"Apple is announcing new iphone tomorrow\",\n",
    "    \"Tesla is announcing new model-3 tomorrow\",\n",
    "    \"Google is announcing new pixel-6 tomorrow\",\n",
    "    \"Microsoft is announcing new surface tomorrow\",\n",
    "    \"Amazon is announcing new eco-dot tomorrow\",\n",
    "    \"I am eating biryani and you are eating grapes\"\n",
    "]\n",
    "x_vectorizer = TfidfVectorizer()\n",
    "x_transformed = x_vectorizer.fit_transform(corpus)\n",
    "print(x_vectorizer.vocabulary_)\n"
   ]
  },
  {
   "cell_type": "code",
   "execution_count": 25,
   "metadata": {},
   "outputs": [
    {
     "name": "stdout",
     "output_type": "stream",
     "text": [
      "25\n"
     ]
    },
    {
     "data": {
      "text/plain": [
       "2.386294361119891"
      ]
     },
     "execution_count": 25,
     "metadata": {},
     "output_type": "execute_result"
    }
   ],
   "source": [
    "all_feature_names = x_vectorizer.get_feature_names_out()\n",
    "index = x_vectorizer.vocabulary_.get('thor') # Get index of the word 'thor'\n",
    "print(index) \n",
    "x_vectorizer.idf_[index] # Get IDF score for the word 'thor'"
   ]
  },
  {
   "cell_type": "code",
   "execution_count": 26,
   "metadata": {},
   "outputs": [
    {
     "name": "stdout",
     "output_type": "stream",
     "text": [
      "Word: already, IDF: 2.386294361119891\n",
      "Word: am, IDF: 2.386294361119891\n",
      "Word: amazon, IDF: 2.386294361119891\n",
      "Word: and, IDF: 2.386294361119891\n",
      "Word: announcing, IDF: 1.2876820724517808\n",
      "Word: apple, IDF: 2.386294361119891\n",
      "Word: are, IDF: 2.386294361119891\n",
      "Word: ate, IDF: 2.386294361119891\n",
      "Word: biryani, IDF: 2.386294361119891\n",
      "Word: dot, IDF: 2.386294361119891\n",
      "Word: eating, IDF: 1.9808292530117262\n",
      "Word: eco, IDF: 2.386294361119891\n",
      "Word: google, IDF: 2.386294361119891\n",
      "Word: grapes, IDF: 2.386294361119891\n",
      "Word: iphone, IDF: 2.386294361119891\n",
      "Word: ironman, IDF: 2.386294361119891\n",
      "Word: is, IDF: 1.1335313926245225\n",
      "Word: loki, IDF: 2.386294361119891\n",
      "Word: microsoft, IDF: 2.386294361119891\n",
      "Word: model, IDF: 2.386294361119891\n",
      "Word: new, IDF: 1.2876820724517808\n",
      "Word: pixel, IDF: 2.386294361119891\n",
      "Word: pizza, IDF: 2.386294361119891\n",
      "Word: surface, IDF: 2.386294361119891\n",
      "Word: tesla, IDF: 2.386294361119891\n",
      "Word: thor, IDF: 2.386294361119891\n",
      "Word: tomorrow, IDF: 1.2876820724517808\n",
      "Word: you, IDF: 2.386294361119891\n"
     ]
    }
   ],
   "source": [
    "for word in all_feature_names:\n",
    "    index = x_vectorizer.vocabulary_.get(word)\n",
    "    print(f\"Word: {word}, IDF: {x_vectorizer.idf_[index]}\")"
   ]
  },
  {
   "cell_type": "code",
   "execution_count": 28,
   "metadata": {},
   "outputs": [
    {
     "data": {
      "text/plain": [
       "array([[0.24266547, 0.        , 0.        , 0.        , 0.        ,\n",
       "        0.        , 0.        , 0.24266547, 0.        , 0.        ,\n",
       "        0.40286636, 0.        , 0.        , 0.        , 0.        ,\n",
       "        0.24266547, 0.11527033, 0.24266547, 0.        , 0.        ,\n",
       "        0.        , 0.        , 0.72799642, 0.        , 0.        ,\n",
       "        0.24266547, 0.        , 0.        ],\n",
       "       [0.        , 0.        , 0.        , 0.        , 0.30652086,\n",
       "        0.5680354 , 0.        , 0.        , 0.        , 0.        ,\n",
       "        0.        , 0.        , 0.        , 0.        , 0.5680354 ,\n",
       "        0.        , 0.26982671, 0.        , 0.        , 0.        ,\n",
       "        0.30652086, 0.        , 0.        , 0.        , 0.        ,\n",
       "        0.        , 0.30652086, 0.        ]])"
      ]
     },
     "execution_count": 28,
     "metadata": {},
     "output_type": "execute_result"
    }
   ],
   "source": [
    "x_transformed.toarray()[:2]"
   ]
  },
  {
   "cell_type": "code",
   "execution_count": null,
   "metadata": {},
   "outputs": [],
   "source": [
    "# Raina Update\n",
    "\n",
    "## Transform the data into a matrix of TF-IDF features\n",
    "vectorizer2 = TfidfVectorizer(max_features=5000)\n",
    "x_transformed_output = vectorizer2.fit_transform(df['comments'])\n",
    "\n",
    "## Print the transformed output (output => 'feature name': index)\n",
    "print(vectorizer2.vocabulary_)"
   ]
  },
  {
   "cell_type": "code",
   "execution_count": 39,
   "metadata": {},
   "outputs": [
    {
     "name": "stdout",
     "output_type": "stream",
     "text": [
      "5000\n",
      "{'love': 2651, 'this': 4458, 'well': 4844, 'made': 2676, 'sturdy': 4256, 'and': 225, 'very': 4734, 'comfortable': 910, 'it': 2350, 'pretty': 3368, 'great': 1966, 'upgrade': 4681, 'from': 1831, 'the': 4429, 'original': 3071, 've': 4722, 'had': 2008, 'mine': 2807, 'for': 1788, 'couple': 1049, 'of': 3019, 'years': 4972, 'pillow': 3231, 'saved': 3766, 'my': 2894, 'back': 361, 'look': 2633, 'feel': 1665, 'missing': 2819, 'information': 2276, 'on': 3039, 'how': 2190, 'to': 4513, 'use': 4697, 'but': 645, 'is': 2344, 'product': 3396, 'price': 3372, 'nice': 2955, 'set': 3870, 'good': 1932, 'quality': 3470, 'we': 4822, 'have': 2059, 'two': 4632, 'months': 2850, 'now': 2993, 'not': 2981, 'been': 440, 'wanted': 4788, 'different': 1259, 'flavors': 1738, 'they': 4445, 'are': 287, 'perfect': 3186, 'touch': 4546, 'me': 2746, 'only': 3044, 'thing': 4451, 'wish': 4897, 'little': 2609, 'more': 2854, 'space': 4095, 'these': 4444, 'done': 1329, 'fit': 1718, 'edges': 1434, 'extra': 1594, 'big': 480, 'numbers': 2997, 'easy': 1426, 'read': 3517, 'didn': 1252, 'like': 2579, 'size': 3981, 'son': 4072, 'loves': 2656, 'also': 204, 'baby': 360, 'as': 304, 'advertised': 158, 'one': 3041, 'problem': 3389, 'that': 4427, 'really': 3532, 'handy': 2027, 'kids': 2422, 'tools': 4532, 'included': 2255, 'in': 2250, 'package': 3108, 'did': 1251, 'someone': 4067, 'say': 3773, '60': 61, 'so': 4040, 'flimsy': 1752, 'you': 4982, 'would': 4940, 'expect': 1567, 'piece': 3227, 'furniture': 1849, 'makes': 2693, 'may': 2743, 'tea': 4376, 'with': 4901, 'out': 3081, 'kind': 2428, 'hard': 2041, 'put': 3464, 'absolutely': 84, 'adorable': 150, 'excellent': 1554, 'wooden': 4917, 'ones': 3042, 'few': 1676, 'an': 223, 'entire': 1504, 'family': 1630, 'beautiful': 427, 'mesh': 2779, 'exactly': 1550, 'what': 4852, '10': 2, 'stars': 4161, 'highly': 2128, 'recommend': 3553, 'item': 2352, 'blanket': 505, 'egg': 1448, 'colors': 901, 'dimensions': 1267, 'just': 2401, 'pictured': 3224, 'fantastic': 1635, 'supposed': 4301, 'come': 906, 'hardware': 2044, 'vacuum': 4712, 'seems': 3836, 'be': 417, 'way': 4819, 'make': 2690, 'small': 4019, 'person': 3196, 'am': 209, 'reason': 3534, 'gave': 1874, 'because': 431, 'can': 675, 'seller': 3843, 'yes': 4975, 'thin': 4450, 'plastic': 3259, 'however': 2191, 'handle': 2021, 'has': 2050, 'bought': 552, 'second': 3820, 'first': 1715, 'sure': 4303, 'wonderful': 4912, 'throughout': 4476, 'house': 2186, 'received': 3541, 'no': 2965, 'time': 4499, 'flat': 1735, 'husband': 2213, 'likes': 2583, 'too': 4529, 'okay': 3032, 'got': 1938, 'local': 2617, 'store': 4205, 'them': 4433, 'away': 354, 'thought': 4465, 'addition': 135, 'kitchen': 2435, 'fine': 1705, 'option': 3061, 'separate': 3854, 'awesome': 355, 'all': 190, 'materials': 2734, 'decent': 1163, 'heavy': 2094, 'everyday': 1541, 'works': 4928, 'part': 3145, 'cup': 1103, 'go': 1920, 'old': 3033, 'suction': 4273, 'cups': 1104, 'removable': 3604, 'expected': 1569, 'looks': 2636, 'design': 1214, 'place': 3245, 'awful': 356, 'experience': 1573, 'everything': 1543, 'stuck': 4246, 'cooked': 1016, 'evenly': 1534, 'does': 1316, 'job': 2377, 'keeping': 2408, 'doesn': 1317, 'slide': 4003, 'sheet': 3900, 'color': 897, 'buy': 650, 'town': 4557, 'save': 3765, 'instead': 2302, 'shipping': 3917, 'box': 558, 'will': 4877, 'keep': 2406, 'money': 2843, 'towels': 4555, 'real': 3524, 'clean': 846, 'purchasing': 3455, 'alright': 203, 'was': 4799, 'disappointed': 1282, 'same': 3753, 'paper': 3137, 'corner': 1032, 'cabinet': 654, 'other': 3075, 'stickers': 4187, 'fabric': 1601, 'thick': 4446, 'enough': 1497, 'hold': 2148, 'amount': 220, 'coffee': 887, 'do': 1311, 'need': 2928, 'long': 2630, 'movie': 2875, 'took': 4530, 'finish': 1708, 'review': 3653, 'next': 2954, 'seal': 3808, 'properly': 3416, 'break': 576, 'if': 2223, 'throw': 4477, 'third': 4457, 'dog': 1319, 'much': 2883, 'better': 474, 'than': 4423, 'get': 1893, 'at': 319, 'walmart': 4786, '50': 58, 'looking': 2635, 'such': 4269, 'purchase': 3452, 'beat': 424, 'cheap': 780, 'intended': 2309, 'choices': 810, 'bowl': 556, 'fast': 1643, 'last': 2484, 'forever': 1795, 'keeps': 2409, 'things': 4452, 'cool': 1021, 'warm': 4793, 'bit': 494, 'bigger': 481, 'fan': 1632, 'actually': 122, 'super': 4290, 'rough': 3715, 'soft': 4049, 'wash': 4800, 'bar': 388, 'guy': 2004, 'often': 3028, 'he': 2067, 'storage': 4204, 'difficult': 1261, 'frame': 1815, 'beautifully': 428, 'crafted': 1066, 'picture': 3223, 'hot': 2182, 'finally': 1700, 'fabulous': 1602, 'friend': 1827, 'low': 2658, 'purchased': 3453, 'christmas': 817, 'gift': 1900, 'she': 3897, 'accurate': 106, 'description': 1208, 'came': 669, 'happy': 2040, 'cover': 1055, 'blankets': 506, 'ever': 1538, 'cozy': 1061, 'smells': 4024, 'dries': 1370, 'quickly': 3479, 'favorite': 1653, 'expecting': 1570, 'curtains': 1109, 'bedroom': 437, 'hang': 2028, 'pants': 3136, 'were': 4846, 'something': 4068, 'larger': 2481, 'pricey': 3375, 'charge': 768, 'kept': 2410, 'up': 4677, 'day': 1148, 'nothing': 2986, 'special': 4104, 'install': 2295, 'described': 1205, 'arrived': 296, 'timely': 4500, 'manner': 2705, 'sent': 3852, 'work': 4922, 'holds': 2152, 'brushes': 610, 'etc': 1527, 'over': 3093, 'again': 169, 'less': 2546, 'opener': 3048, 'hands': 2025, 'about': 80, 'air': 179, 'tight': 4491, 'glad': 1910, 'cute': 1117, 'zippers': 4995, 'worked': 4923, 'send': 3846, 'grandkids': 1953, 'their': 4432, 'halloween': 2014, 'treats': 4585, 'ton': 4524, 'by': 653, 'using': 4704, 'weak': 4823, 'barely': 391, 'bring': 596, 'any': 252, 'glasses': 1912, 'feels': 1668, 'grand': 1948, 'daughter': 1144, 'connecting': 969, 'power': 3337, 'supply': 4296, 'cameras': 671, 'definitely': 1182, 'contemporary': 994, 'assemble': 313, 'appears': 270, 'boyfriend': 563, 'loved': 2652, 'cousin': 1054, 'stopped': 4201, 'working': 4925, 'after': 167, 'still': 4192, 'waiting': 4775, 'refund': 3574, 'reasonably': 3536, 'poor': 3301, 'kid': 2420, 'thanks': 4426, 'under': 4651, 'your': 4986, 'feet': 1669, 'chair': 749, 'order': 3065, 'photos': 3213, 'wall': 4783, 'weeks': 4837, 'helps': 2106, 'food': 1783, 'warmer': 4794, 'wide': 4871, 'opening': 3049, 'best': 471, 'future': 1851, 'additional': 136, 'convenience': 1009, 'smell': 4022, 'almost': 197, 'bright': 591, 'pink': 3236, 'material': 2733, 'shelves': 3905, 'chocolate': 808, 'or': 3063, 'fruit': 1834, 'think': 4453, 'knives': 2445, 'should': 3934, 'father': 1647, 'needed': 2929, 'winter': 4889, 'slept': 4001, 'week': 4834, 'sheets': 3901, 'find': 1702, 'bed': 435, 'functional': 1844, 'legs': 2539, 'bedding': 436, 'term': 4411, 'container': 991, 'bags': 372, 'type': 4633, 'containers': 992, 'smooth': 4028, 'solid': 4058, 'fits': 1721, 'grill': 1973, 'large': 2480, 'canvas': 687, 'lightweight': 2577, 'ordered': 3066, 'light': 2572, 'blue': 519, 'yellow': 4973, 'used': 4698, 'every': 1539, 'gets': 1894, 'shampoo': 3888, 'want': 4787, 'shower': 3940, 'mini': 2808, 'full': 1840, 'mattress': 2740, 'college': 896, 'terrible': 4413, 'complete': 939, 'waste': 4808, 'whole': 4866, 'lot': 2647, 'together': 4520, 'difference': 1257, 'deal': 1153, 'far': 1637, 'products': 3398, 'quick': 3477, 'customer': 1114, 'service': 3868, 'value': 4714, 'oven': 3092, 'right': 3672, 'height': 2098, 'wait': 4773, 'try': 4608, 'china': 804, 'mother': 2858, 'anything': 256, 'else': 1462, 'car': 697, 'snake': 4031, 'oil': 3030, 'cushion': 1111, 'constructed': 984, 'easily': 1423, 'washed': 4802, 'haven': 2060, 'takes': 4349, 'mystery': 2898, 'when': 4857, 'meat': 2758, 'finished': 1709, 'cooking': 1020, 'its': 2354, 'utensils': 4707, 'perfectly': 3187, 'art': 299, 'rug': 3724, 'some': 4065, 'wrap': 4945, 'longer': 2631, 'tubes': 4612, 'which': 4861, 'disappointing': 1283, 'never': 2947, 'expensive': 1572, 'washing': 4805, 'goes': 1924, 'star': 4160, 'mug': 2885, 'hers': 2114, 'saver': 3767, 'our': 3078, 'laundry': 2497, 'room': 3706, 'flexible': 1748, 'leading': 2512, 'edge': 1433, 'quite': 3484, 'helpful': 2104, 'conditions': 960, 'bottom': 550, 'stay': 4172, 'zero': 4992, 'elegant': 1458, 'glass': 1911, 'improve': 2247, 'taste': 4371, 'wine': 4884, 'side': 3948, 'there': 4439, 'mats': 2736, 'new': 2948, 'bathroom': 411, 'baking': 375, 'needs': 2932, 'top': 4535, 'notch': 2982, 'bust': 643, 'many': 2710, 'comments': 917, 'spoon': 4126, 'table': 4338, 'matched': 2729, 'curtain': 1108, 'secondary': 3821, 'areas': 289, 'somewhat': 4070, 'convenient': 1010, 'hoped': 2172, 'battery': 414, 'candles': 679, 'brand': 570, 'ok': 3031, 'firm': 1713, 'beyond': 477, 'minimal': 2809, 'effort': 1446, 'smile': 4025, 'fleece': 1746, 'noticed': 2989, 'today': 4515, 'where': 4859, 'lbs': 2507, 'oz': 3103, 'sticks': 4189, 'meal': 2747, 'candy': 680, 'certainly': 746, 'cord': 1028, 'garage': 1867, 'broke': 601, 'month': 2849, 'shelf': 3902, 'spare': 4099, 'memory': 2772, 'earlier': 1414, 'packaging': 3111, 'mix': 2823, 'bride': 588, 'slightly': 4007, 'website': 4832, 'pictures': 3225, 'then': 4437, 'year': 4971, 'pick': 3217, 'equipment': 1514, 'rings': 3677, 'either': 1451, 'gone': 1930, 'destroyed': 1224, 'pieces': 3228, 'gifts': 1902, 'trouble': 4600, 'high': 2125, 'end': 1478, 'clock': 864, 'although': 206, 'flaw': 1739, 'solution': 4060, 'his': 2141, 'going': 1926, 'dinner': 1271, 'buying': 652, 'especially': 1523, 'nicely': 2956, 'wife': 4874, 'packed': 3112, 'variety': 4719, 'myself': 2895, 'hours': 2185, 'mirror': 2815, 'into': 2325, 'hanging': 2031, 'efficient': 1445, 'adore': 151, 'bowls': 557, 'batch': 409, 'cold': 888, 'drinks': 1376, 'measuring': 2757, 'hand': 2019, 'fact': 1607, 'padding': 3117, 'machine': 2673, 'easier': 1421, 'wrong': 4958, 'countertop': 1046, 'drawer': 1356, 'defective': 1178, 'fix': 1725, 'boy': 562, 'turn': 4618, 'off': 3020, 'snap': 4032, 'don': 1328, 'hell': 2100, 'replaced': 3615, 'holding': 2151, 'says': 3775, 'favorites': 1654, 'closet': 869, 'know': 2449, 'tried': 4592, 'before': 441, 'delivery': 1193, 'american': 216, 'matching': 2731, 'pie': 3226, 'three': 4469, 'sets': 3871, 'impressed': 2244, 'bag': 370, 'durable': 1403, 'suppose': 4300, 'water': 4814, 'flash': 1731, 'even': 1532, 'sitting': 3977, 'believe': 454, 'rated': 3505, 'originally': 3072, 'threads': 4468, 'socket': 4046, 'bulbs': 630, 'totally': 4545, 'yet': 4977, 'pull': 3440, 'along': 199, 'otherwise': 3077, 'clear': 851, 'toilet': 4521, 'brush': 608, 'holders': 2150, 'sleek': 3995, 'appear': 267, 'promised': 3410, 'lovely': 2653, 'lamp': 2471, 'cookie': 1018, 'cutter': 1119, 'track': 4560, 'shoes': 3924, 'floor': 1756, 'visible': 4758, 'shipped': 3916, 'promptly': 3412, 'ten': 4403, 'slow': 4017, 'bread': 575, 'becomes': 433, 'rock': 3689, 'overall': 3094, 'corners': 1033, 'broken': 602, 'pasta': 3158, 'ice': 2215, 'cream': 1073, 'soup': 4090, 'filter': 1697, 'covers': 1059, 'night': 2960, 'noise': 2968, 'fell': 1670, 'apart': 260, 'became': 430, 'strong': 4237, 'world': 4929, 'carpet': 709, 'dead': 1152, 'covered': 1057, 'molded': 2838, 'hearts': 2085, 'tad': 4343, 'loose': 2639, '15': 11, 'eat': 1427, 'breakfast': 578, 'classic': 840, 'temperature': 4401, 'dishwasher': 1299, 'area': 288, 'access': 94, 'burn': 638, 'white': 4864, 'liking': 2584, 'daughters': 1145, 'single': 3970, 'tastes': 4372, 'lighter': 2573, 'soon': 4077, 'surprised': 4310, 'task': 4369, 'standard': 4156, 'present': 3359, 'guest': 1996, '32': 42, 'comes': 908, 'amazing': 211, 'eggs': 1449, 'reasons': 3537, 'thinner': 4456, 'professional': 3399, 'blender': 509, 'open': 3046, 'see': 3831, 'wear': 4825, 'tear': 4382, 'correct': 1034, 'mom': 2840, 'summer': 4287, 'tiny': 4504, 'unless': 4670, 'who': 4865, 'arthritis': 300, 'her': 2109, 'reading': 3521, 'reviews': 3658, 'vibrant': 4739, 'softer': 4050, 'model': 2830, 'bottles': 549, 'freezer': 1822, 'fresh': 1825, 'compact': 921, 'travel': 4578, 'charm': 775, 'daily': 1125, 'lid': 2563, 'wrists': 4951, 'cleaned': 847, 'sooner': 4078, 'thicker': 4447, 'dots': 1335, 'hooks': 2169, 'ceiling': 738, 'returned': 3647, 'twice': 4625, 'base': 397, 'knife': 2444, 'sharp': 3895, 'careful': 705, 'taking': 4350, 'rather': 3506, 'handles': 2023, 'stronger': 4238, 'quit': 3483, 'though': 4464, 'knob': 2446, 'rod': 3691, 'clothes': 873, 'stuff': 4251, 'rub': 3722, 'shorter': 3930, 'cotton': 1040, 'king': 2432, 'others': 3076, 'mentioned': 2776, 'kinda': 2429, 'hose': 2180, 'stiff': 4191, 'fun': 1842, 'alice': 186, 'party': 3151, 'runner': 3731, 'weight': 4840, 'serves': 3867, 'purpose': 3458, 'both': 545, 'useful': 4699, 'attractive': 338, 'speed': 4109, 'home': 2162, 'cracked': 1064, 'bad': 368, 'soap': 4041, 'fish': 1716, 'looked': 2634, 'lunch': 2669, 'several': 3876, 'days': 1149, 'plenty': 3275, 'stove': 4214, 'tested': 4418, 'installation': 2296, 'priced': 3373, 'terms': 4412, 'durability': 1402, 're': 3512, 'scratch': 3794, 'weird': 4842, 'unlike': 4671, 'falls': 1626, 'ends': 1483, 'designed': 1215, 'added': 131, 'provide': 3432, 'pot': 3324, 'most': 2856, 'pleased': 3273, 'shown': 3942, 'towel': 4554, 'rack': 3488, 'projects': 3408, 'worth': 4937, 'salt': 3751, 'ordering': 3067, 'inexpensive': 2271, 'tool': 4531, 'queen': 3473, 'actual': 121, 'weren': 4847, 'tighter': 4494, 'mind': 2805, 'making': 2696, 'aren': 290, 'blade': 501, 'collection': 894, 'holder': 2149, 'instructions': 2304, 'misleading': 2816, 'cookies': 1019, 'older': 3034, 'version': 4730, 'grow': 1987, 'own': 3099, 'handled': 2022, 'pans': 3135, 'without': 4903, 'stunning': 4254, 'modern': 2834, 'desk': 1219, 'gorgeous': 1937, 'industrial': 2269, 'release': 3587, 'scale': 3776, 'doing': 1322, 'within': 4902, 'follow': 1779, 'directions': 1276, 'won': 4909, 'float': 1754, 'chicken': 799, 'cleans': 850, 'pitcher': 3243, 'name': 2904, 'hesitate': 2118, 'cart': 716, 'help': 2102, 'must': 2893, 'robot': 3688, 'add': 130, 'bulky': 632, 'apartment': 261, 'counter': 1045, 'maker': 2691, 'rv': 3739, 'partially': 3146, 'beginners': 445, 'went': 4845, 'dark': 1137, 'rarely': 3503, 'ac': 88, 'live': 2610, 'somewhere': 4071, 'problems': 3390, 'getting': 1895, 'ready': 3523, 'gray': 1965, 'roller': 3697, 'safe': 3745, 'sharpen': 3896, 'scissors': 3789, 'behind': 449, 'seat': 3818, 'proof': 3414, 'dust': 1405, 'dirt': 1279, 'handling': 2024, 'crack': 1063, 'vs': 4770, 'recommended': 3555, 'since': 3968, 'said': 3749, 'metal': 2784, 'trick': 4590, '99': 73, 'built': 628, 'razor': 3511, 'cutting': 1120, 'granddaughter': 1950, 'play': 3263, 'saw': 3770, 'skin': 3988, 'hair': 2010, 'simply': 3967, 'thank': 4424, 'cut': 1116, 'let': 2549, 'windows': 4883, 'gotten': 1940, 'compliments': 945, 'mounts': 2868, 'bottle': 548, 'mood': 2851, 'while': 4862, 'bend': 465, 'split': 4121, 'outstanding': 3091, 'mat': 2727, 'uses': 4703, 'bolts': 528, 'dropped': 1384, 'detail': 1225, 'could': 1042, 'breeze': 585, 'simple': 3966, 'awhile': 357, 'lasted': 2485, '3rd': 52, 'steam': 4178, 'kettle': 2411, 'quiet': 3480, 'stand': 4154, 'mixer': 2825, 'gadget': 1856, 'move': 2871, 'around': 294, 'ive': 2356, 'multiple': 2887, 'times': 4502, 'panel': 3134, 'chip': 806, 'marks': 2716, 'inside': 2289, 'beginning': 446, 'anyone': 255, 'trailer': 4567, 'upright': 4685, 'liked': 2581, 'dining': 1270, 'highest': 2127, 'bell': 458, 'stays': 4175, 'fridge': 1826, 'everyone': 1542, 'self': 3841, 'condition': 959, 'stick': 4186, 'tile': 4496, 'floors': 1757, 'having': 2061, 'spout': 4132, 'regular': 3580, 'leaves': 2528, 'realistic': 3526, 'pair': 3128, 'non': 2971, 'medical': 2762, 'level': 2554, 'law': 2498, 'basic': 401, 'obsessed': 3005, 'plants': 3258, 'cooker': 1017, 'trust': 4606, 'give': 1906, 'recipes': 3549, 'horrible': 2176, 'holes': 2154, 'sewn': 3878, 'granddaughters': 1951, 'sleep': 3996, 'found': 1809, 'step': 4181, 'stool': 4199, 'rice': 3660, 'boys': 564, 'south': 4093, 'bet': 472, 'rubber': 3723, 'grip': 1976, 'issues': 2349, 'wonders': 4915, 'able': 79, 'spoons': 4127, 'stores': 4207, 'pillows': 3232, 'neat': 2923, 'spaces': 4096, 'major': 2688, 'pain': 3123, 'putting': 3466, 'why': 4869, 'hate': 2054, 'designs': 1216, 'agree': 176, 'stock': 4194, 'bands': 384, 'wheel': 4855, 'nest': 2941, 'tasty': 4373, 'gives': 1908, 'us': 4692, 'chairs': 750, 'theme': 4434, 'regarding': 3577, 'cheaply': 783, 'lucky': 2664, 'lasts': 2487, 'scent': 3783, 'refrigerator': 3573, 'darn': 1140, 'powers': 3340, 'goodness': 1933, 'zipper': 4994, 'constantly': 983, 'cap': 688, 'breaks': 580, 'replacement': 3616, 'useless': 4700, 'amazon': 213, 'prime': 3379, 'alone': 198, 'letter': 2551, 'case': 717, 'mixing': 2826, 'colorful': 899, 'board': 521, 'cloth': 872, 'decor': 1170, 'probably': 3388, 'posts': 3323, 'walls': 4785, 'cheese': 787, 'wouldn': 4941, 'red': 3560, 'cases': 718, 'hole': 2153, 'hook': 2167, 'through': 4475, 'brands': 571, 'wood': 4916, 'lids': 2564, 'completely': 941, 'learning': 2522, 'flaws': 1743, 'admit': 147, 'cant': 686, 'noisy': 2970, 'fans': 1634, 'strongly': 4239, 'magnetic': 2681, 'duty': 1406, 'pan': 3132, 'loving': 2657, 'huge': 2197, 'hit': 2144, 'mount': 2864, 'installed': 2297, 'company': 924, 'couldn': 1043, 'satisfied': 3763, 'library': 2562, 'started': 4163, 'rust': 3738, 'hangs': 2032, 'tank': 4363, 'forward': 1806, 'homemade': 2163, 'milk': 2801, 'sided': 3949, 'element': 1459, 'boxes': 561, 'toy': 4558, 'course': 1052, 'turned': 4619, 'boat': 523, 'excited': 1559, 'outside': 3090, 'blowing': 516, 'care': 703, 'dried': 1369, 'perhaps': 3193, 'laid': 2468, 'delivered': 1191, 'dogs': 1320, 'doesnt': 1318, 'stainless': 4151, 'tho': 4459, 'black': 499, 'smaller': 4020, 'bent': 469, 'pole': 3291, 'packaged': 3109, 'http': 2194, 'wider': 4872, 'glue': 1918, 'baked': 374, 'potatoes': 3326, 'regularly': 3581, 'candle': 678, 'powerful': 3339, 'parts': 3150, 'quarter': 3471, 'smart': 4021, 'waist': 4771, 'spray': 4133, 'outdoor': 3083, 'tough': 4550, 'due': 1396, 'shape': 3889, 'once': 3040, 'instant': 2300, 'pressure': 3366, 'stress': 4226, 'watching': 4813, 'double': 1336, 'steel': 4180, 'sink': 3971, 'charcoal': 767, 'filters': 1698, 'clips': 863, 'pill': 3230, 'fight': 1682, 'naturally': 2916, 'entertaining': 1501, 'display': 1304, 'holidays': 2156, 'down': 1341, 'flow': 1760, 'traveling': 4579, 'door': 1331, 'fingers': 1707, 'crossed': 1090, 'support': 4297, 'early': 1415, 'cake': 659, 'camping': 674, 'joke': 2384, 'damaged': 1128, 'block': 511, 'unique': 4662, 'liquid': 2597, 'feature': 1658, 'jar': 2365, 'downside': 1344, 'saves': 3768, 'iron': 2342, 'slides': 4004, 'morning': 2855, 'evening': 1533, 'lately': 2490, 'dry': 1389, 'drives': 1381, 'kitties': 2439, 'nuts': 3002, 'paint': 3125, 'maybe': 2744, 'starting': 4165, 'fixed': 1726, 'moisture': 2836, 'running': 3732, 'coat': 883, 'hats': 2057, 'surfaces': 4306, 'allergies': 192, 'check': 784, 'computer': 949, 'hardly': 2043, 'cleaning': 849, 'style': 4257, 'died': 1254, 'office': 3025, 'brought': 605, 'accessories': 96, 'return': 3646, 'test': 4417, 'thoroughly': 4462, 'drink': 1374, 'always': 208, 'please': 3272, 'cuddly': 1100, 'oh': 3029, 'sweet': 4325, 'joy': 2389, 'foam': 1769, 'nearly': 2922, 'impossible': 2243, 'season': 3816, 'alarm': 181, 'take': 4347, 'leg': 2534, 'during': 1404, 'assembly': 315, 'changed': 758, 'carbon': 699, 'protection': 3424, 'another': 244, 'whatever': 4853, 'happier': 2037, 'snug': 4038, '12': 7, 'yr': 4990, 'carry': 713, 'steps': 4184, 'already': 202, '13': 8, 'sizes': 3983, 'ripped': 3680, 'sticky': 4190, 'mess': 2780, 'rest': 3641, 'prevent': 3369, 'scratching': 3797, 'grinder': 1975, 'expert': 1578, 'number': 2996, 'unit': 4663, 'electric': 1453, 'motor': 2862, 'study': 4250, 'apple': 271, 'crust': 1094, 'walking': 4781, 'skirt': 3991, 'creates': 1076, 'free': 1819, 'surface': 4305, 'cook': 1015, 'adjustments': 146, 'omg': 3038, 'butter': 647, 'anymore': 254, 'show': 3938, 'trying': 4609, 'enjoy': 1491, 'wedding': 4833, 'measure': 2753, 'countries': 1047, 'cannot': 683, 'fill': 1690, 'button': 648, 'shallow': 3886, 'mean': 2749, 'five': 1724, 'leave': 2527, 'comment': 915, 'rolls': 3700, 'tables': 4339, 'nowhere': 2994, 'near': 2921, 'dishes': 1298, 'pattern': 3162, 'match': 2728, 'patterns': 3163, 'necessary': 2925, 'might': 2796, 'tired': 4508, 'heavier': 2092, 'cardboard': 701, 'pleasant': 3270, 'bake': 373, 'silicone': 3961, 'changes': 759, '30': 40, 'pack': 3107, 'fitness': 1720, 'serve': 3864, '16': 13, 'despite': 1222, 'abuse': 86, 'reference': 3566, 'silent': 3960, 'wake': 4776, 'minutes': 2814, 'wished': 4898, 'bonus': 532, 'darker': 1138, 'funny': 1847, 'worst': 4936, '4th': 57, 'bath': 410, 'skeptical': 3985, 'traditional': 4563, 'pots': 3328, 'owned': 3100, 'directed': 1273, 'lost': 2646, 'prefer': 3350, 'effective': 1442, 'seemed': 3834, 'poorly': 3302, 'assembled': 314, 'trash': 4577, 'snacks': 4030, 'drop': 1383, 'le': 2509, 'trigger': 4594, 'total': 4544, 'crap': 1068, 'scratched': 3795, 'info': 2275, 'blades': 502, 'sock': 4045, 'bra': 565, 'thermometer': 4442, 'folds': 1777, 'settings': 3873, 'guarantee': 1992, 'tears': 4383, 'photo': 3210, 'head': 2069, 'direction': 1275, 'lit': 2603, 'people': 3183, 'diet': 1256, 'roomy': 3708, 'stupid': 4255, 'print': 3382, 'change': 757, 'plans': 3256, 'workout': 4926, 'results': 3643, 'apply': 275, 'shine': 3912, 'hardwood': 2045, '2nd': 39, 'cooler': 1022, 'given': 1907, 'children': 803, 'usable': 4694, 'minor': 2810, 'scratches': 3796, 'bother': 546, 'tell': 4397, 'stable': 4147, 'spot': 4130, 'cleaner': 848, 'market': 2715, 'wallet': 4784, 'pops': 3306, 'being': 450, 'accessory': 97, 'molds': 2839, 'filled': 1691, 'makeshift': 2694, 'burned': 639, 'unfortunately': 4660, 'interior': 2320, 'sections': 3826, 'began': 442, 'absolute': 83, 'plates': 3261, 'complaint': 937, 'sloppy': 4014, 'those': 4463, 'survived': 4317, 'surely': 4304, 'freeze': 1821, 'microwave': 2793, 'messy': 2782, 'saving': 3769, 'isn': 2347, 'ideal': 2218, 'ears': 1418, 'among': 219, 'washable': 4801, 'dont': 1330, 'happened': 2034, 'setup': 3874, 'matches': 2730, 'web': 4831, 'wanting': 4789, 'replace': 3614, 'vac': 4710, 'bare': 390, 'leather': 2526, 'realize': 3528, 'gas': 1871, 'giant': 1899, 'spring': 4135, 'turns': 4622, 'school': 3786, 'couch': 1041, 'gold': 1927, 'rose': 3713, 'gloves': 1916, 'burning': 640, 'dryer': 1390, 'each': 1411, 'unusual': 4676, 'shed': 3899, 'front': 1832, 'fails': 1615, 'laugh': 2493, 'understanding': 4654, 'fair': 1618, 'pet': 3202, 'between': 475, 'tie': 4488, 'solved': 4063, 'ties': 4490, 'falling': 1625, 'needing': 2930, 'issue': 2348, 'until': 4675, 'screw': 3800, 'driver': 1379, 'wind': 4881, 'bunch': 636, 'kinds': 2431, 'claims': 832, 'suck': 4270, 'runs': 3733, 'heard': 2080, 'tip': 4505, 'coming': 914, 'construction': 985, 'starter': 4164, 'sides': 3950, 'reasonable': 3535, 'tree': 4586, 'attachments': 327, 'hip': 2139, 'pad': 3115, 'matter': 2738, 'hangers': 2030, 'station': 4171, 'details': 1227, 'pen': 3180, 'thickness': 4448, 'wet': 4851, 'pepper': 3184, 'preferred': 3352, 'shaped': 3890, 'knew': 2443, 'example': 1551, 'neither': 2937, 'leak': 2514, 'nor': 2975, 'purposes': 3459, 'alive': 189, 'unscrew': 4674, 'function': 1843, 'organized': 3070, 'gun': 2001, 'range': 3501, 'served': 3865, 'helped': 2103, 'pump': 3444, 'lock': 2622, 'essential': 1524, 'ceramic': 744, 'seen': 3837, 'appearance': 268, 'affect': 161, 'performance': 3189, 'substantial': 4263, 'prompt': 3411, 'endless': 1482, 'musical': 2892, 'disney': 1302, 'characters': 766, 'connected': 968, 'wise': 4896, 'toaster': 4514, 'setting': 3872, '55': 60, 'protector': 3426, 'sound': 4085, 'nights': 2962, 'nasty': 2911, 'craft': 1065, 'scrub': 3805, 'mail': 2683, 'dish': 1297, 'cat': 724, 'chart': 777, 'half': 2012, 'shirt': 3918, 'picks': 3220, 'guests': 1997, 'storing': 4209, 'danger': 1133, 'inner': 2283, 'core': 1031, 'aluminum': 207, 'crazy': 1072, 'eyes': 1600, 'peeled': 3177, 'friends': 1829, 'blown': 517, 'warranty': 4797, 'eye': 1599, 'sounding': 4087, 'electronic': 1456, 'buttons': 649, '70': 67, 'serious': 3862, 'ugh': 4639, 'teenagers': 4393, 'teenager': 4392, 'herself': 2115, 'gifted': 1901, 'lose': 2642, 'items': 2353, 'brings': 598, 'heat': 2087, 'grandsons': 1957, 'detailed': 1226, 'comfy': 912, 'living': 2613, 'sorts': 4083, 'shrink': 3944, 'including': 2257, 'birthday': 492, '20': 20, 'guessing': 1995, 'upon': 4683, 'ran': 3497, 'deep': 1173, 'accessible': 95, 'adult': 152, 'guard': 1993, 'bacon': 367, 'bay': 416, 'amazed': 210, 'penny': 3182, 'waterproof': 4815, 'allowed': 194, 'thru': 4481, 'upper': 4684, 'section': 3825, 'here': 2110, 'plus': 3283, 'absorbent': 85, 'onto': 3045, 'frequently': 1824, 'requiring': 3625, 'de': 1151, 'cost': 1036, 'sticking': 4188, 'true': 4603, 'orange': 3064, 'sizing': 3984, 'existing': 1564, 'collect': 893, 'pirate': 3240, 'brother': 603, 'purple': 3457, 'fold': 1774, 'stayed': 4173, 'kit': 2434, 'wow': 4944, 'weekend': 4835, 'stack': 4148, 'degree': 1183, 'weather': 4828, 'figured': 1686, 'update': 4679, 'medium': 2763, 'pockets': 3287, 'reviewers': 3656, '37': 49, 'brew': 586, 'idea': 2217, 'anticipated': 249, 'fuzzy': 1852, 'catching': 727, 'pocket': 3286, 'book': 533, 'recomend': 3552, 'reminded': 3600, 'co': 880, 'sugar': 4279, 'goods': 1934, 'extreme': 1597, 'angle': 229, 'leads': 2513, 'practical': 3341, 'sleeping': 3997, 'nervous': 2940, 'length': 2541, 'occasionally': 3010, 'awkward': 358, 'caps': 691, 'pros': 3418, 'friendly': 1828, 'cons': 975, 'none': 2972, 'drivers': 1380, 'spend': 4111, 'press': 3364, 'moved': 2872, 'till': 4498, 'neck': 2926, 'form': 1800, 'cube': 1098, 'spread': 4134, 'story': 4211, 'lift': 2570, 'sometimes': 4069, 'feed': 1661, 'portion': 3312, 'control': 1005, 'left': 2533, 'arm': 291, 'washes': 4804, 'commercial': 918, 'mixed': 2824, 'jars': 2366, 'further': 1850, 'extremely': 1598, '18': 16, 'held': 2099, 'cycle': 1121, 'incredibly': 2260, 'rip': 3679, 'backing': 363, 'heats': 2090, 'sized': 3982, 'human': 2198, 'sat': 3761, 'string': 4232, 'tied': 4489, 'cordless': 1029, 'clipper': 861, 'avid': 350, 'magnets': 2682, 'magnet': 2680, 'folded': 1775, 'ride': 3664, 'wheels': 4856, 'recently': 3545, 'texas': 4420, 'opportunity': 3057, 'insane': 2286, 'tall': 4359, 'pour': 3334, 'yo': 4978, 'recipe': 3548, 'boards': 522, 'device': 1238, 'tom': 4523, 'removed': 3606, 'slots': 4016, 'dc': 1150, 'important': 2241, 'closed': 866, 'position': 3316, 'previously': 3371, 'pics': 3222, 'justice': 2402, 'nicer': 2957, 'dispenser': 1303, 'rid': 3663, 'junk': 2400, 'tries': 4593, 'applied': 274, 'catch': 725, 'attention': 334, 'hospital': 2181, 'pin': 3234, 'relatively': 3586, 'hide': 2123, 'fear': 1656, 'therefore': 4440, 'serving': 3869, 'heater': 2088, 'fire': 1712, 'watch': 4810, 'remote': 3602, 'sons': 4075, 'beach': 418, 'brackets': 568, 'drying': 1391, 'makeup': 2695, 'll': 2614, 'paying': 3169, 'dirty': 1280, 'tooth': 4533, 'normal': 2977, 'tissue': 4510, 'scoop': 3790, 'sand': 3756, 'shield': 3909, 'decide': 1164, 'per': 3185, 'instruction': 2303, 'manual': 2706, 'four': 1811, 'cables': 657, 'guess': 1994, 'rim': 3675, 'scared': 3777, 'refill': 3568, 'choice': 809, 'cheapest': 782, 'close': 865, 'defined': 1180, 'disappoint': 1281, 'plan': 3251, 'hearing': 2081, 'reliable': 3589, 'vegetables': 4723, 'hadn': 2009, 'colored': 898, 'bill': 485, 'improved': 2248, 'previous': 3370, 'ago': 175, 'spoil': 4122, 'improvement': 2249, 'locking': 2624, 'mechanism': 2760, 'preference': 3351, 'recent': 3544, 'cruise': 1092, 'pool': 3299, 'hoping': 2175, 'straps': 4220, 'class': 838, 'canister': 681, 'round': 3716, 'opened': 3047, 'thinking': 4454, 'logo': 2627, 'opens': 3050, 'cans': 685, 'except': 1555, 'understand': 4653, 'twin': 4627, 'underneath': 4652, 'printer': 3384, 'ask': 306, 'ruined': 3727, 'batteries': 413, 'indestructible': 2263, 'personal': 3197, 'purse': 3460, 'backpack': 364, 'nonstick': 2973, 'sit': 3974, 'produced': 3394, 'florida': 1759, 'date': 1143, 'april': 282, 'plush': 3284, 'everywhere': 1544, 'known': 2452, 'start': 4162, 'giving': 1909, 'certain': 745, 'ridiculously': 3668, 'definite': 1181, 'comfort': 909, 'anywhere': 259, 'flowers': 1762, 'past': 3157, 'flawless': 1741, 'leaked': 2515, 'picking': 3219, 'toddler': 4516, 'mouth': 2870, 'adjustable': 142, 'brown': 606, 'hassle': 2052, 'returning': 3648, 'complaining': 936, 'seasons': 3817, 'em': 1464, 'push': 3461, 'sorry': 4081, 'safety': 3747, 'lower': 2659, 'moving': 2877, 'source': 4091, 'coloring': 900, 'planned': 3254, 'tons': 4528, 'wonderfully': 4913, 'www': 4961, 'com': 902, 'ref': 3565, 'hundreds': 2203, 'custom': 1113, 'considering': 979, 'drive': 1377, 'screws': 3803, 'controls': 1008, 'describe': 1204, 'feeling': 1666, 'veggies': 4724, 'seconds': 3822, 'stop': 4200, 'decided': 1165, 'york': 4980, 'grasp': 1962, 'average': 349, 'female': 1673, 'general': 1880, 'hour': 2184, 'stylish': 4259, 'him': 2134, 'bubble': 613, 'pay': 3168, 'fault': 1650, 'besides': 470, 'sits': 3976, 'entertainment': 1502, 'center': 740, 'carrier': 711, 'throwing': 4478, 'raising': 3495, 'tv': 4623, 'ray': 3510, 'player': 3265, 'interesting': 2318, 'shapes': 3891, 'royal': 3721, 'straw': 4222, 'knee': 2441, 'keeper': 2407, 'rooms': 3707, 'rate': 3504, 'cabinets': 655, 'liner': 2591, 'mold': 2837, 'damp': 1130, 'sounds': 4088, 'closing': 870, 'available': 348, 'slice': 4002, 'life': 2567, 'attached': 323, 'process': 3391, 'pulled': 3441, 'attach': 322, 'lack': 2462, 'lines': 2592, 'functions': 1846, 'correctly': 1035, 'santa': 3759, 'wants': 4790, 'transport': 4575, 'currently': 1107, 'fighting': 1683, 'slip': 4010, 'vivid': 4763, 'blocks': 512, 'finding': 1703, 'grandchildren': 1949, 'folding': 1776, 'doors': 1332, 'hope': 2171, 'talk': 4355, 'game': 1861, 'yourself': 4987, 'noticeable': 2988, 'lots': 2648, 'america': 215, 'taken': 4348, 'kitty': 2440, 'plate': 3260, 'short': 3929, 'greatest': 1968, 'cheesy': 788, 'similar': 3964, 'typical': 4635, 'camper': 673, 'impressive': 2246, 'slipping': 4013, 'seem': 3833, 'growing': 1988, 'styles': 4258, 'lengths': 2542, 'usa': 4693, 'data': 1142, 'link': 2594, 'linked': 2595, 'href': 2193, 'server': 3866, 'dp': 1346, 'cm_cr_arp_d_rvw_txt': 879, 'ie': 2222, 'utf8': 4708, 'nbsp': 2920, 'combo': 905, '100': 3, 'supplies': 4295, 'basement': 400, 'shell': 3903, 'note': 2983, 'wipe': 4890, 'wires': 4894, 'window': 4882, 'various': 4720, 'fancy': 1633, 'cubes': 1099, 'fragile': 1814, 'resistant': 3632, 'obviously': 3007, 'texture': 4422, 'pushing': 3463, 'carefully': 706, 'drinking': 1375, 'authentic': 342, 'fountain': 1810, 'lovers': 2655, 'honestly': 2165, 'higher': 2126, 'based': 399, 'listed': 2599, 'weave': 4829, 'mention': 2775, 'adults': 153, 'faces': 1605, 'dad': 1124, 'happens': 2036, 'overpriced': 3098, 'sleeve': 3999, 'whim': 4863, 'allows': 196, 'grocery': 1982, 'fellow': 1671, 'stone': 4196, 'whenever': 4858, 'continue': 999, 'ship': 3915, 'locks': 2625, 'movies': 2876, 'games': 1862, 'nylon': 3003, 'least': 2525, 'microfiber': 2791, 'odor': 3017, 'maintenance': 2687, 'target': 4367, 'prices': 3374, 'unbelievable': 4647, 'classy': 843, 'square': 4137, 'budget': 620, 'receive': 3540, 'paid': 3122, 'claimed': 831, 'specific': 4105, 'loud': 2649, 'annoying': 243, 'placed': 3246, 'believer': 455, 'peeler': 3178, 'stomach': 4195, 'models': 2831, 'driving': 1382, 'seams': 3811, 'run': 3730, 'lip': 2596, 'places': 3248, 'build': 625, 'easiest': 1422, 'thankfully': 4425, '2012': 23, 'forgot': 1798, 'french': 1823, 'lasting': 2486, 'pop': 3303, 'doll': 1323, 'selection': 3840, 'remember': 3599, 'stated': 4168, 'content': 995, 'required': 3623, 'aid': 178, 'cumbersome': 1102, 'manufacturer': 2708, 'width': 4873, 'directly': 1277, 'called': 664, 'extender': 1590, 'fall': 1623, 'compartments': 930, 'compartment': 929, 'operate': 3052, 'torn': 4539, 'bamboo': 382, 'fitted': 1722, 'grain': 1947, 'central': 742, 'heating': 2089, 'system': 4334, 'solar': 4052, 'types': 4634, 'weaving': 4830, 'primarily': 3377, 'weigh': 4838, 'cuts': 1118, 'john': 2380, 'shows': 3943, 'literally': 2605, 'wasn': 4807, 'fake': 1622, 'updated': 4680, 'online': 3043, 'followed': 1780, 'sucks': 4272, 'itself': 2355, 'investment': 2335, 'alot': 200, 'felt': 1672, 'rolling': 3699, 'placing': 3249, 'body': 526, 'hips': 2140, 'foot': 1786, 'anybody': 253, 'asked': 307, 'sun': 4288, 'face': 1603, 'writing': 4956, 'concerned': 955, 'dial': 1242, 'faced': 1604, 'pizza': 3244, 'hotel': 2183, 'hidden': 2122, 'significant': 3957, 'performs': 3192, 'lean': 2518, 'happen': 2033, 'luck': 2662, 'begin': 443, 'hopefully': 2173, 'suggested': 4281, 'labeled': 2458, 'stones': 4197, 'basket': 405, 'narrow': 2910, 'attachment': 326, 'clearly': 852, 'tendency': 4405, 'brighter': 592, 'pads': 3119, 'chance': 755, 'ugly': 4640, 'smelled': 4023, 'grass': 1963, 'bikes': 484, 'sliding': 4005, 'whether': 4860, 'cancelled': 676, 'hung': 2204, 'master': 2725, 'apparent': 263, 'rare': 3502, 'usual': 4705, 'treat': 4582, 'holiday': 2155, 'point': 3288, 'blood': 514, 'hey': 2120, 'thats': 4428, 'share': 3892, 'lemon': 2540, 'later': 2491, 'glow': 1917, 'assumed': 317, 'elsewhere': 1463, 'bones': 531, 'shoe': 3923, 'purchases': 3454, 'pairs': 3130, 'yesterday': 4976, 'delicious': 1186, 'young': 4983, 'rounded': 3717, 'quirky': 3482, 'studio': 4249, 'building': 626, 'aaa': 76, 'grandson': 1956, 'state': 4167, 'biscuit': 493, 'booklet': 534, 'im': 2228, 'explain': 1579, 'deck': 1169, 'lol': 2628, 'seriously': 3863, 'spent': 4114, 'alcohol': 182, 'appreciated': 277, 'context': 997, 'bulk': 631, 'digital': 1265, 'lcd': 2508, 'capacity': 690, 'invest': 2333, 'choose': 811, 'popping': 3305, 'bubbles': 614, 'insert': 2287, 'planet': 3253, 'prepared': 3357, 'natural': 2915, 'drawers': 1357, 'record': 3557, '2015': 26, '23': 32, 'throws': 4480, 'layer': 2502, 'wars': 4798, 'ridiculous': 3667, 'opinion': 3055, 'image': 2229, 'mason': 2723, 'quieter': 3481, 'empty': 1475, 'inch': 2252, 'cakes': 660, 'arrive': 295, 'replacing': 3618, 'tab': 4337, 'woman': 4907, 'fitting': 1723, 'flies': 1750, 'remains': 3596, 'structure': 4241, 'spill': 4115, 'toys': 4559, 'line': 2589, 'juice': 2392, 'exception': 1556, 'lifetime': 2569, 'girlfriend': 1904, 'grey': 1972, 'remove': 3605, 'card': 700, 'damage': 1127, 'leaking': 2516, 'hi': 2121, 'options': 3062, 'clever': 853, 'sight': 3951, 'safely': 3746, 'keurig': 2412, 'la': 2455, '25': 34, '00': 0, 'exact': 1549, 'figure': 1685, 'wrote': 4959, 'discounted': 1290, 'exchange': 1558, 'honest': 2164, 'unbiased': 4648, 'whom': 4867, 'clip': 860, 'crank': 1067, 'load': 2615, 'beware': 476, 'entry': 1506, 'keys': 2417, 'character': 765, 'puts': 3465, 'spinning': 4117, 'kick': 2419, 'whatsoever': 4854, 'adjust': 141, 'thrilled': 4471, 'deeper': 1174, 'cheaper': 781, 'threw': 4470, 'dull': 1398, 'separated': 3855, 'society': 4044, 'kill': 2423, 'projector': 3407, 'shines': 3913, 'trip': 4597, 'ours': 3079, 'usually': 4706, 'surprise': 4309, 'shirts': 3919, 'canned': 682, 'random': 3499, 'tumbler': 4615, 'waited': 4774, 'notice': 2987, 'instantly': 2301, 'accidents': 100, 'shopping': 3928, 'hallway': 2015, 'indoor': 2267, 'silver': 3963, 'gentle': 1887, 'securely': 3829, 'uncomfortable': 4650, 'below': 461, 'stairs': 4152, 'tends': 4407, 'conversation': 1011, 'filling': 1693, 'punches': 3447, 'pumpkin': 3445, 'prone': 3413, 'anti': 248, 'waking': 4777, 'adjusted': 143, 'boots': 537, 'accommodate': 101, 'acts': 120, 'pound': 3332, 'coated': 884, 'regardless': 3578, 'foods': 1784, 'angel': 227, 'grace': 1945, 'matters': 2739, 'painting': 3127, 'woods': 4918, 'manufacturing': 2709, 'above': 81, 'con': 951, 'lite': 2604, 'adhesive': 140, 'contact': 987, 'mark': 2712, 'ball': 378, 'screwdriver': 3801, 'tighten': 4492, 'thus': 4484, 'according': 103, 'personally': 3200, 'imo': 2238, 'tray': 4580, 'particularly': 3148, 'ingredients': 2280, 'anyways': 258, 'die': 1253, 'bulb': 629, 'shaft': 3884, 'creating': 1077, 'secured': 3828, 'accent': 91, 'located': 2619, 'road': 3685, 'desired': 1218, 'temp': 4400, '3d': 51, 'limited': 2588, '26': 35, 'aware': 353, 'flame': 1729, 'hazard': 2063, 'practice': 3343, 'spectacular': 4108, 'shake': 3885, 'plays': 3268, 'snow': 4037, 'church': 821, 'ended': 1480, 'group': 1986, 'sequence': 3858, 'require': 3622, 'closure': 871, 'tape': 4366, 'learned': 2521, 'gallon': 1860, 'ease': 1420, '14': 9, 'cast': 721, 'knock': 2447, 'terribly': 4414, 'adding': 134, 'shes': 3908, 'hammer': 2017, 'crush': 1093, 'hates': 2056, 'hear': 2079, 'constant': 982, 'strength': 4225, 'dough': 1340, 'housing': 2189, 'squeeze': 4142, 'tend': 4404, 'delivers': 1192, 'blast': 507, '300': 41, 'pounds': 3333, 'miss': 2817, 'smoothly': 4029, 'gear': 1877, 'forces': 1791, 'withstand': 4904, 'occasional': 3009, 'performed': 3191, 'thread': 4467, 'count': 1044, 'edit': 1435, 'landscape': 2474, 'newest': 2950, 'rolled': 3696, 'terrific': 4416, 'bargain': 392, 'removing': 3607, 'fairly': 1619, 'grabbing': 1944, 'refused': 3575, 'litter': 2608, 'peel': 3176, 'manually': 2707, 'processor': 3392, 'touching': 4549, 'cooling': 1023, 'gel': 1878, 'attempting': 332, 'create': 1074, 'concept': 952, 'thumb': 4482, 'list': 2598, 'expectations': 1568, 'minus': 2812, 'blend': 508, 'truly': 4604, 'appreciate': 276, 'latch': 2488, 'shut': 3945, 'gap': 1865, 'hinges': 2137, 'pre': 3345, 'coating': 885, 'silly': 3962, 'write': 4952, 'novel': 2990, 'knows': 2453, 'situation': 3978, 'teeth': 4395, 'tells': 4399, 'lead': 2510, 'dream': 1361, 'loaded': 2616, 'six': 3980, 'quicker': 3478, 'max': 2742, 'ahead': 177, 'ring': 3676, 'weighs': 4839, 'skinny': 3989, 'screwed': 3802, 'seam': 3810, 'dolls': 1326, 'padded': 3116, 'costume': 1038, 'rise': 3681, 'means': 2751, 'suitcase': 4284, 'worried': 4932, 'solidly': 4059, 'proper': 3415, 'casual': 723, 'suitable': 4283, 'appeal': 265, 'heavily': 2093, 'experiences': 1575, 'lie': 2565, 'lay': 2501, 'complaints': 938, 'middle': 2795, 'holy': 2161, 'somehow': 4066, 'wire': 4891, 'hinge': 2136, 'knowing': 2450, 'germany': 1892, 'garbage': 1868, 'vacation': 4711, 'sealed': 3809, 'protein': 3428, 'crystal': 1097, 'reach': 3513, 'forget': 1796, 'lined': 2590, 'painted': 3126, 'dozen': 1345, 'confident': 962, 'win': 4880, 'walk': 4778, 'sensitive': 3850, 'green': 1970, 'affordable': 164, 'frustrated': 1835, 'gauge': 1873, 'balanced': 377, 'period': 3194, 'suddenly': 4274, 'calls': 666, 'companies': 922, 'business': 642, 'freaking': 1818, 'search': 3813, 'dresses': 1366, 'odd': 3016, 'afraid': 165, 'letting': 2553, 'popped': 3304, 'flip': 1753, 'intuitive': 2332, 'precise': 3347, 'learn': 2520, 'method': 2786, 'moderate': 2833, 'answer': 245, 'brick': 587, 'forest': 1794, 'mostly': 2857, 'failed': 1613, 'shame': 3887, 'lever': 2556, 'comfortably': 911, 'pulling': 3442, 'addiction': 133, 'receiving': 3543, 'tin': 4503, 'protective': 3425, 'glove': 1915, 'scary': 3779, 'provides': 3434, 'flavor': 1737, 'girls': 1905, 'heads': 2074, 'complain': 934, 'touched': 4547, 'women': 4908, 'upset': 4687, 'anyway': 257, 'tub': 4610, 'words': 4920, 'showed': 3939, 'tricky': 4591, 'sleeves': 4000, 'outer': 3085, 'basics': 403, 'sexy': 3881, 'beauty': 429, 'breaking': 579, 'depot': 1200, 'ground': 1985, 'contrast': 1003, 'frozen': 1833, 'shoulder': 3935, 'strain': 4217, 'drawback': 1355, 'grew': 1971, 'packages': 3110, 'letters': 2552, 'gotta': 1939, 'twist': 4629, 'thermostat': 4443, 'failing': 1614, 'delicate': 1185, 'against': 170, 'xmas': 4963, 'led': 2530, 'imagined': 2234, 'shoulders': 3936, 'strap': 4219, 'straight': 4215, 'hesitant': 2117, 'result': 3642, 'outfit': 3086, 'washer': 4803, 'steal': 4177, 'blow': 515, 'produce': 3393, 'becoming': 434, 'protect': 3421, 'wondering': 4914, 'measured': 2754, 'ill': 2226, 'beats': 426, 'sold': 4053, 'mile': 2798, 'easter': 1425, 'seeing': 3832, 'repeated': 3612, 'upside': 4688, 'likely': 2582, 'sell': 3842, 'root': 3709, 'film': 1694, 'complained': 935, 'avoid': 351, 'decorative': 1171, 'balls': 381, 'california': 662, 'flawlessly': 1742, 'speeds': 4110, 'upgraded': 4682, 'platform': 3262, 'switch': 4329, 'grown': 1989, 'hint': 2138, 'movement': 2873, 'pulls': 3443, 'developed': 1234, 'shot': 3932, 'tightly': 4495, 'tan': 4362, 'winner': 4886, 'disappointment': 1284, '45': 55, 'fallen': 1624, 'tops': 4538, 'carried': 710, 'youtube': 4989, 'videos': 4745, 'questions': 3476, 'fade': 1611, 'generous': 1884, 'features': 1659, 'chose': 812, 'premium': 3356, 'realized': 3529, 'applications': 273, 'sad': 3742, 'sending': 3847, 'shop': 3927, 'disclaimer': 1287, 'sea': 3807, 'discount': 1289, 'checking': 786, 'members': 2769, 'plug': 3280, 'utility': 4709, 'rigid': 3674, 'checked': 785, 'causing': 735, 'error': 1520, 'states': 4169, 'measurements': 2755, 'reality': 3527, 'consider': 977, 'nope': 2974, 'charged': 769, 'compared': 927, 'tower': 4556, 'inferior': 2272, 'screen': 3798, 'protects': 3427, 'sweat': 4323, 'lighting': 2574, 'porch': 3308, 'lights': 2576, 'ultimate': 4642, 'yeah': 4970, 'grandma': 1954, 'appropriate': 279, 'child': 801, 'devil': 1240, 'dimmable': 1268, 'flattering': 1736, 'continues': 1001, 'caution': 736, 'hollow': 2157, 'heart': 2082, 'disk': 1300, 'mothers': 2860, 'peanut': 3172, 'grind': 1974, 'meet': 2764, 'moon': 2852, 'crappy': 1069, 'comparison': 928, 'trim': 4596, 'shiny': 3914, 'afternoon': 168, 'created': 1075, 'obvious': 3006, 'provided': 3433, 'allow': 193, 'greater': 1967, 'chemical': 789, 'showing': 3941, 'backup': 366, 'versions': 4731, 'rented': 3609, 'meals': 2748, 'hasn': 2051, 'basically': 402, 'noted': 2984, 'radio': 3489, 'reviewer': 3655, 'copper': 1025, 'title': 4511, 'rugged': 3725, 'crisp': 1086, 'ladies': 2466, 'mounted': 2866, 'timer': 4501, 'ability': 78, 'realizing': 3531, 'headphones': 2073, 'flight': 1751, 'iphone': 2340, 'earbuds': 1413, 'loop': 2637, 'million': 2802, 'delighted': 1188, 'wound': 4942, 'packing': 3113, 'thumbs': 4483, 'pleasantly': 3271, 'impression': 2245, 'causes': 734, 'complicated': 943, 'fail': 1612, 'idiot': 2221, 'mac': 2671, 'gain': 1857, 'decades': 1161, 'science': 3788, 'promise': 3409, 'dvd': 1407, 'cable': 656, 'blu': 518, 'post': 3321, 'cats': 730, 'spin': 4116, 'greatly': 1969, 'common': 919, 'mins': 2811, 'busy': 644, 'dollars': 1325, 'overly': 3096, 'epic': 1509, 'socks': 4048, 'diaper': 1247, 'laying': 2504, 'spots': 4131, 'cell': 739, 'sensor': 3851, 'posted': 3322, 'extended': 1589, 'trips': 4599, 'unnecessary': 4672, 'signs': 3959, 'hunting': 2208, 'hunter': 2207, 'scheme': 3784, 'stops': 4203, 'stored': 4206, 'superior': 4292, 'beast': 423, 'cloud': 875, 'carrying': 714, 'eventually': 1537, 'changing': 760, 'jewelry': 2376, 'prove': 3430, 'precision': 3348, 'stuffing': 4253, 'moves': 2874, 'path': 3160, 'resistance': 3631, 'ensure': 1498, 'sister': 3972, 'lives': 2612, 'upstairs': 4689, 'lazy': 2505, 'switched': 4330, 'suffer': 4276, 'across': 108, 'suede': 4275, 'differently': 1260, 'negative': 2933, 'rating': 3507, 'hits': 2145, 'images': 2230, 'enjoys': 1496, 'success': 4267, 'surprisingly': 4313, 'jesus': 2374, 'occasion': 3008, 'picked': 3218, 'turner': 4620, 'separately': 3856, 'solving': 4064, 'secure': 3827, 'thrown': 4479, 'largest': 2482, 'garden': 1869, 'valve': 4716, 'male': 2698, 'department': 1198, 'organic': 3069, 'plain': 3250, 'eating': 1429, 'imagine': 2233, 'exceeded': 1553, 'sadly': 3744, 'portable': 3310, 'arms': 292, 'fully': 1841, 'fortunately': 1805, 'packs': 3114, 'december': 1162, 'tasks': 4370, 'vendor': 4728, 'raise': 3493, 'question': 3475, 'concern': 954, 'rope': 3711, 'rich': 3661, 'finger': 1706, 'passed': 3153, 'sheath': 3898, 'user': 4701, 'minute': 2813, 'desperate': 1221, 'sign': 3953, 'chihuahua': 800, 'stands': 4159, 'gonna': 1931, 'sees': 3838, 'managed': 2702, 'polish': 3294, 'sale': 3750, 'internal': 2321, 'leaving': 2529, 'tips': 4506, 'exercise': 1562, 'application': 272, 'slowly': 4018, 'clicking': 855, 'tripod': 4598, 'pipe': 3239, 'twenty': 4624, 'bucks': 618, 'adequate': 139, 'snapped': 4033, 'captured': 695, 'wonder': 4910, 'prior': 3385, 'theater': 4430, 'mountain': 2865, 'beneath': 466, 'covering': 1058, 'beef': 439, 'mainly': 2685, 'joints': 2383, 'louder': 2650, 'mad': 2675, 'depending': 1199, 'pinch': 3235, 'neutral': 2946, 'escape': 1522, 'view': 4746, 'contents': 996, 'flexibility': 1747, 'chosen': 813, 'walks': 4782, 'losing': 2644, 'rinse': 3678, 'duck': 1394, 'german': 1891, 'reception': 3546, 'saying': 3774, 'site': 3975, 'lacey': 2461, 'finds': 1704, 'sense': 3849, 'humor': 2200, 'clasp': 837, 'layers': 2503, 'attaching': 325, 'pro': 3387, 'faster': 1644, 'drain': 1351, 'adds': 138, 'feedback': 1662, 'click': 854, 'reviewed': 3654, 'history': 2143, 'following': 1781, '24': 33, 'format': 1801, 'resolution': 3633, 'min': 2804, 'met': 2783, 'spending': 4112, 'current': 1106, 'curve': 1110, 'page': 3120, 'public': 3437, 'jacket': 2358, 'treated': 4583, 'flying': 1767, 'remotes': 3603, 'informative': 2277, 'trap': 4576, 'sample': 3754, 'bars': 396, 'generally': 1881, 'suit': 4282, 'components': 946, 'suspect': 4320, 'ages': 173, 'frankly': 1817, 'requires': 3624, 'wings': 4885, 'offer': 3021, 'worse': 4935, 'versatile': 4729, 'folks': 1778, 'inches': 2253, 'weekly': 4836, 'ups': 4686, 'call': 663, 'raised': 3494, 'powder': 3336, 'dangerous': 1134, 'fat': 1645, 'difficulty': 1262, 'dropping': 1385, 'regard': 3576, 'occurred': 3014, 'politics': 3296, 'collector': 895, 'seven': 3875, 'includes': 2256, 'tiles': 4497, 'beans': 421, 'rocks': 3690, 'dumb': 1399, 'grips': 1979, 'visual': 4762, 'edition': 1438, 'slight': 4006, 'differences': 1258, 'turning': 4621, 'july': 2395, 'english': 1489, 'wardrobe': 4792, 'bosch': 542, 'cards': 702, 'supplement': 4294, 'lover': 2654, 'claws': 844, 'expense': 1571, 'death': 1158, 'discs': 1295, 'warming': 4795, 'nephew': 2938, 'suggest': 4280, 'retired': 3644, 'rotate': 3714, 'worry': 4934, 'told': 4522, 'initially': 2282, 'rain': 3491, 'hated': 2055, 'essentially': 1525, 'units': 4665, 'massive': 2724, 'elements': 1460, 'printed': 3383, 'label': 2457, 'lifting': 2571, 'tanks': 4364, 'evidence': 1545, 'roll': 3695, 'primary': 3378, 'himself': 2135, 'raw': 3508, 'closer': 868, 'word': 4919, 'signed': 3955, 'private': 3386, 'closely': 867, 'develop': 1233, 'stuffed': 4252, 'helping': 2105, 'faucet': 1649, 'ultra': 4644, 'consistent': 980, 'shouldn': 3937, 'hurt': 2210, 'niece': 2959, 'initial': 2281, 'convinced': 1013, 'polyester': 3297, 'faulty': 1651, 'video': 4744, 'charges': 771, 'false': 1627, '29': 38, 'grab': 1943, 'hoover': 2170, 'events': 1536, 'levels': 2555, 'recommending': 3556, 'charging': 772, '2016': 27, 'replacements': 3617, 'profile': 3401, 'div': 1309, 'id': 2216, 'spacing': 4097, 'input': 2285, 'https': 2195, 'na': 2900, 'ssl': 4144, 'mp4': 2879, 'url': 4691, 'png': 3285, 'slate': 3994, 'img': 2235, 'rail': 3490, 'aside': 305, 'coaster': 882, 'newly': 2951, 'hungry': 2205, 'math': 2735, 'pressing': 3365, 'baseball': 398, 'circular': 825, 'centered': 741, 'cords': 1030, 'address': 137, 'confusing': 965, 'become': 432, 'positive': 3317, 'fool': 1785, 'solve': 4062, 'devices': 1239, 'drill': 1371, 'faint': 1617, 'code': 886, 'tick': 4485, '22': 31, 'possible': 3319, 'chain': 748, 'dollar': 1324, 'frustrating': 1836, 'mobile': 2828, 'specs': 4107, 'project': 3406, 'reviewing': 3657, 'experiment': 1577, 'companion': 923, 'reads': 3522, 'mistake': 2821, 'repair': 3610, '28': 37, 'dress': 1365, 'automatically': 347, 'connect': 967, 'sort': 4082, 'adopted': 149, 'auto': 345, 'named': 2905, 'tragic': 4565, 'afford': 163, 'leaks': 2517, 'teens': 4394, 'develops': 1237, 'happening': 2035, 'wrapped': 4946, 'tube': 4611, 'sick': 3947, 'stream': 4223, 'hat': 2053, 'country': 1048, 'mask': 2722, 'poop': 3300, 'proven': 3431, 'birds': 490, 'flush': 1765, 'fly': 1766, 'contained': 990, 'tap': 4365, 'trunk': 4605, 'reduced': 3563, 'amazingly': 212, 'fur': 1848, 'placement': 3247, 'cause': 732, 'enjoyable': 1492, 'surprising': 4312, 'vehicles': 4726, 'extras': 1596, 'semi': 3845, 'hopes': 2174, 'chances': 756, 'household': 2187, 'standing': 4158, 'doubt': 1337, 'pregnancy': 3353, 'immediately': 2236, 'ranch': 3498, 'late': 2489, 'subject': 4262, 'numerous': 2998, 'taller': 4360, 'newer': 2949, 'confused': 964, 'consistently': 981, 'independent': 2262, 'diameter': 1244, 'navy': 2919, 'external': 1593, 'usb': 4696, 'port': 3309, 'velcro': 4727, 'bang': 385, 'pure': 3456, 'sky': 3992, 'tag': 4344, 'exceptional': 1557, 'storm': 4210, 'frustration': 1837, 'plant': 3257, 'nut': 3000, 'happily': 2038, 'loosen': 2640, 'apparently': 264, 'media': 2761, 'compare': 926, 'gaps': 1866, 'drawn': 1359, 'harder': 2042, 'contain': 989, 'searching': 3815, 'handed': 2020, 'shocking': 3922, '11': 6, 'incredible': 2259, '500': 59, 'overnight': 3097, 'operation': 3054, 'pliers': 3276, 'caused': 733, 'jump': 2396, 'rifle': 3670, 'killing': 2426, 'delight': 1187, 'clothing': 874, 'zip': 4993, 'married': 2718, 'parents': 3142, 'remaining': 3595, 'slim': 4008, 'force': 1789, 'successful': 4268, '600': 62, 'stitching': 4193, 'dump': 1400, 'possibly': 3320, 'controller': 1007, 'ass': 312, 'official': 3027, 'sport': 4128, 'smoke': 4027, 'normally': 2978, 'determined': 1231, 'perspective': 3201, 'worries': 4933, 'challenge': 752, 'cash': 719, 'presentation': 3360, 'remain': 3594, 'locally': 2618, 'lived': 2611, 'sleeps': 3998, 'pass': 3152, 'bound': 554, 'grade': 1946, 'criticism': 1088, 'basis': 404, '40': 53, 'race': 3486, 'fifth': 1681, 'graphics': 1961, 'security': 3830, 'pouch': 3330, 'bank': 386, 'tabs': 4341, 'lb': 2506, 'hanger': 2029, 'breaker': 577, 'partner': 3149, 'mr': 2880, 'proud': 3429, 'location': 2620, 'efforts': 1447, 'chinese': 805, 'drops': 1386, 'trail': 4566, 'locations': 2621, 'alert': 184, 'motorcycle': 2863, 'paddle': 3118, '17': 14, '95': 72, 'vertical': 4733, '36': 47, 'exposed': 1585, 'contacted': 988, 'via': 4738, 'email': 1465, 'ft': 1838, 'vhs': 4737, 'punch': 3446, '000': 1, 'electronics': 1457, 'bits': 497, 'hay': 2062, 'swimming': 4327, 'superb': 4291, 'themselves': 4436, 'neighbor': 2934, 'chloe': 807, 'shots': 3933, 'books': 535, 'entirely': 1505, 'limitations': 2587, 'nose': 2980, 'oem': 3018, 'nails': 2902, 'stain': 4150, 'upcoming': 4678, 'lantern': 2476, 'fishing': 1717, 'slippery': 4012, 'batman': 412, 'subtle': 4265, 'protected': 3422, 'taylor': 4375, 'uk': 4641, 'vintage': 4753, 'boring': 540, 'response': 3637, 'photography': 3212, 'critical': 1087, 'dim': 1266, 'aa': 75, 'supportive': 4299, 'seats': 3819, 'achieve': 107, 'lace': 2459, 'degrees': 1184, 'arrow': 298, 'depth': 1203, 'research': 3628, 'shocked': 3921, '65': 65, 'allen': 191, 'wrench': 4947, 'hunt': 2206, 'shade': 3882, 'curious': 1105, 'significantly': 3958, 'comparable': 925, 'message': 2781, 'effect': 1441, 'meant': 2752, 'towards': 4553, 'earth': 1419, 'installing': 2298, 'cars': 715, 'fascinated': 1639, 'adjusting': 144, 'individual': 2264, 'discovered': 1292, 'bump': 635, 'starts': 4166, 'offers': 3024, 'woven': 4943, 'desert': 1211, 'breathe': 583, 'disaster': 1285, 'rushed': 3735, 'understood': 4656, 'struck': 4240, 'classroom': 842, 'brushed': 609, 'extend': 1588, 'stage': 4149, 'selling': 3844, 'bored': 539, 'potential': 3327, 'opinions': 3056, 'respond': 3636, 'grant': 1958, 'weights': 4841, 'measures': 2756, 'multi': 2886, 'trade': 4562, 'listened': 2601, '80': 69, 'category': 728, 'plugs': 3282, 'breath': 581, '400': 54, 'series': 3861, 'twins': 4628, 'tone': 4525, 'biggest': 482, 'emergency': 1467, 'yard': 4968, 'alternative': 205, 'trial': 4589, 'meaning': 2750, 'attaches': 324, 'buyer': 651, 'forth': 1804, 'soul': 4084, 'missed': 2818, 'girl': 1903, 'theory': 4438, 'rig': 3671, 'strips': 4234, 'informed': 2278, 'rush': 3734, 'shepherd': 3906, 'vet': 4736, 'gem': 1879, 'wave': 4818, 'gripe': 1977, 'accidentally': 99, 'reflection': 3570, 'fashion': 1641, 'functionality': 1845, 'tags': 4345, 'related': 3583, '180': 17, 'plane': 3252, 'mid': 2794, 'event': 1535, 'points': 3290, 'attracted': 336, 'elastic': 1452, 'stretch': 4227, 'completed': 940, 'complex': 942, 'telling': 4398, 'pc': 3170, 'combination': 903, 'programming': 3403, 'tossed': 4543, 'dealing': 1154, 'typically': 4636, 'inspired': 2293, 'effectively': 1443, 'kills': 2427, 'bugs': 624, 'discover': 1291, 'pride': 3376, 'operating': 3053, 'advantage': 155, 'btw': 612, 'offering': 3023, 'customers': 1115, 'experienced': 1574, 'specifically': 4106, 'fuel': 1839, 'favor': 1652, 'lacks': 2464, 'destroy': 1223, 'searched': 3814, 'swing': 4328, 'ghost': 1897, 'luckily': 2663, 'coleman': 890, 'camp': 672, 'band': 383, 'final': 1699, 'circle': 823, 'nature': 2917, 'valuable': 4713, 'reactions': 3516, 'approximately': 280, 'hence': 2107, 'wrist': 4949, 'peace': 3171, 'planning': 3255, 'united': 4664, 'recommendation': 3554, 'willing': 4879, 'dig': 1263, 'enjoyed': 1493, 'blame': 504, 'treme': 4588, 'attempt': 330, 'acted': 110, 'attempted': 331, 'attempts': 333, 'aspects': 311, 'particular': 3147, 'flawed': 1740, 'draw': 1354, 'markers': 2714, 'crayons': 1071, 'drawing': 1358, 'aspect': 310, 'pets': 3205, 'worn': 4931, 'tubing': 4613, 'increase': 2258, 'brightness': 593, 'dreaming': 1362, 'rent': 3608, 'edited': 1436, '2017': 28, 'risk': 3682, 'detract': 1232, 'file': 1688, 'angry': 230, 'cross': 1089, 'member': 2768, 'factory': 1609, 'patch': 3159, 'animal': 232, 'genuine': 1889, 'offered': 3022, 'poles': 3292, 'challenging': 754, 'opposite': 3059, 'versus': 4732, 'static': 4170, 'bothered': 547, 'importantly': 2242, 'ruin': 3726, 'key': 2414, 'lady': 2467, 'treatment': 4584, 'knees': 2442, 'balloons': 380, 'yellowish': 4974, 'voluntarily': 4769, 'pleasure': 3274, 'fourth': 1812, 'usage': 4695, 'assume': 316, 'toss': 4542, 'expand': 1565, 'ways': 4820, 'palm': 3131, 'squeak': 4138, 'drilling': 1373, 'crowd': 1091, 'killer': 2425, 'modes': 2835, 'owners': 3102, 'controlled': 1006, 'bucket': 616, 'direct': 1272, 'panasonic': 3133, 'circuit': 824, 'explained': 1580, 'watt': 4816, 'background': 362, 'potato': 3325, 'interface': 2319, 'bike': 483, 'stability': 4146, 'advice': 159, 'phone': 3208, 'man': 2700, 'survival': 4315, 'unknown': 4669, 'reported': 3620, 'visiting': 4761, 'plugged': 3281, 'facing': 1606, 'dot': 1334, 'routine': 3720, '200': 21, 'ordinary': 3068, 'strip': 4233, 'shy': 3946, 'picky': 3221, 'fog': 1773, 'makers': 2692, 'lightning': 2575, 'progress': 3404, 'hood': 2166, '150': 12, 'sling': 4009, 'generic': 1883, 'ingredient': 2279, 'stopping': 4202, 'motion': 2861, 'ancient': 224, 'jumped': 2397, 'relief': 3590, 'dual': 1393, 'golden': 1928, 'deals': 1155, 'indeed': 2261, 'faith': 1621, 'majority': 2689, 'contains': 993, 'caught': 731, 'bug': 623, 'snaps': 4034, '1st': 19, 'club': 876, 'fathers': 1648, 'luke': 2667, 'meeting': 2765, 'mode': 2829, 'switching': 4332, 'hurts': 2212, 'hiding': 2124, 'impact': 2239, 'intact': 2305, '2014': 25, 'randomly': 3500, 'lens': 2544, 'chrome': 819, 'costs': 1037, '27': 36, 'terrier': 4415, 'ex': 1548, 'enjoying': 1494, 'machines': 2674, 'toward': 4552, 'practically': 3342, 'testing': 4419, 'slot': 4015, 'nail': 2901, 'files': 1689, 'whose': 4868, 'regret': 3579, 'fixture': 1727, 'unhappy': 4661, 'city': 828, 'wasted': 4809, 'account': 104, 'nightmare': 2961, 'neighborhood': 2935, 'drag': 1348, 'bounce': 553, 'exterior': 1592, 'romantic': 3704, 'healthy': 2078, 'heels': 2097, 'tennis': 4408, 'ben': 463, 'eight': 1450, 'uneven': 4657, 'failure': 1616, 'wearing': 4826, 'beads': 419, 'lining': 2593, 'reduce': 3562, 'adjustment': 145, 'limit': 2586, 'complimentary': 944, 'expressed': 1587, 'charger': 770, 'sucked': 4271, 'evil': 1546, 'forgive': 1797, 'played': 3264, 'russian': 3737, 'pointed': 3289, 'italian': 2351, 'bicycle': 479, 'nine': 2964, 'select': 3839, 'born': 541, 'refreshing': 3572, 'transfer': 4573, 'consumer': 986, 'author': 343, 'loss': 2645, 'combined': 904, 'twisted': 4630, 'aggressive': 174, 'individually': 2265, '90': 71, 'blind': 510, 'rely': 3593, 'forced': 1790, 'respect': 3635, 'camera': 670, 'crew': 1083, 'involved': 2336, 'stubborn': 4245, 'guys': 2005, 'pins': 3237, 'bracket': 567, 'carries': 712, 'monitor': 2844, 'younger': 4984, 'providing': 3435, 'environment': 1507, 'driven': 1378, 'struggle': 4242, 'solutions': 4061, 'rescue': 3627, 'deserves': 1213, 'discomfort': 1288, 'periods': 3195, 'automatic': 346, 'creative': 1078, 'eve': 1531, 'deliver': 1190, 'include': 2254, 'ourselves': 3080, 'anxious': 251, 'wolf': 4906, 'sore': 4080, 'lets': 2550, 'sunglasses': 4289, 'ebook': 1431, 'england': 1488, 'benefit': 467, 'reflect': 3569, 'main': 2684, '19': 18, 'haired': 2011, 'lab': 2456, 'beloved': 460, 'listen': 2600, 'watts': 4817, 'balance': 376, 'opposed': 3058, 'worthwhile': 4938, 'draws': 1360, 'team': 4381, '6th': 66, 'connection': 970, 'rule': 3728, 'badly': 369, 'farm': 1638, 'output': 3089, 'animals': 233, 'speakers': 4102, 'stereo': 4185, 'knocked': 2448, 'rear': 3533, 'speaker': 4101, 'handsome': 2026, 'follows': 1782, '2013': 24, 'gal': 1858, 'continued': 1000, 'warning': 4796, 'bird': 489, 'monster': 2846, 'report': 3619, 'hundred': 2202, 'asking': 308, 'jobs': 2378, 'beating': 425, 'suited': 4285, 'shared': 3893, 'intrigue': 2326, 'toddlers': 4517, 'occur': 3013, 'playing': 3267, 'television': 4396, 'considered': 978, 'software': 4051, 'painful': 3124, 'worker': 4924, 'military': 2800, 'war': 4791, 'intelligence': 2307, 'inserts': 2288, 'concrete': 958, 'chest': 791, 'program': 3402, 'longevity': 2632, 'mounting': 2867, 'steady': 4176, 'phenomenal': 3206, 'wondered': 4911, 'teach': 4377, 'compatible': 931, 'southern': 4094, '75': 68, 'influenced': 2274, 'spends': 4113, 'flows': 1763, 'unable': 4646, 'drilled': 1372, 'princess': 3381, 'forgotten': 1799, 'acceptable': 93, 'distance': 1305, 'decision': 1167, 'decisions': 1168, 'deserve': 1212, 'volume': 4768, 'noises': 2969, 'hooked': 2168, 'wore': 4921, 'tender': 4406, 'ideas': 2219, 'pushed': 3462, 'protecting': 3423, 'harsh': 2049, 'owner': 3101, 'arrives': 297, 'roof': 3705, 'confusion': 966, 'tech': 4384, 'viewing': 4750, 'boxed': 559, 'finishing': 1710, 'decade': 1160, 'heck': 2095, 'enter': 1499, 'teaching': 4380, 'xl': 4962, 'written': 4957, 'hitting': 2146, 'pouches': 3331, 'everybody': 1540, 'rachel': 3487, 'amy': 222, 'skip': 3990, 'marked': 2713, 'charming': 776, 'standards': 4157, 'famous': 1631, 'families': 1629, 'century': 743, 'genius': 1885, 'necessarily': 2924, 'truck': 4602, 'adapter': 128, 'wealthy': 4824, 'wears': 4827, 'net': 2942, 'community': 920, 'quest': 3474, 'bite': 495, 'identical': 2220, 'ii': 2225, 'diamond': 1245, 'recycled': 3559, 'touches': 4548, 'speak': 4100, '21': 30, 'errors': 1521, 'equally': 1513, 'news': 2952, 'captain': 692, 'castle': 722, 'brilliant': 594, 'developing': 1235, 'defects': 1179, 'summary': 4286, 'men': 2773, 'mature': 2741, 'pups': 3451, 'pig': 3229, 'pit': 3242, 'worlds': 4930, 'perform': 3188, 'kibble': 2418, 'views': 4751, 'sharing': 3894, '1000': 4, 'beds': 438, 'tongue': 4526, 'staying': 4174, 'sweater': 4324, 'torque': 4540, 'connectors': 973, 'ultimately': 4643, 'responsive': 3640, 'equal': 1512, 'dies': 1255, 'national': 2913, 'miles': 2799, 'career': 704, 'extension': 1591, 'damn': 1129, 'feeding': 1664, 'accept': 92, 'hobby': 2147, 'nutrition': 3001, 'guide': 1998, 'wild': 4876, '2000': 22, 'dramatic': 1353, 'lying': 2670, 'lamps': 2472, 'healing': 2076, 'amber': 214, 'calling': 665, 'notes': 2985, 'desktop': 1220, 'powered': 3338, 'thoughts': 4466, 'switches': 4331, 'reflective': 3571, 'released': 3588, '64': 64, 'fought': 1808, 'encounter': 1476, 'jeans': 2369, 'ear': 1412, 'answers': 246, 'equivalent': 1515, 'clippers': 862, 'squeaky': 4141, 'descriptive': 1210, 'electrical': 1454, 'gym': 2006, 'desire': 1217, 'benefits': 468, 'hurry': 2209, 'thorough': 4461, 'virtually': 4756, 'brief': 590, 'lesson': 2547, 'management': 2703, 'cushioning': 1112, 'straightforward': 4216, 'confidence': 961, 'feelings': 1667, 'reveal': 3650, 'sub': 4261, 'enthusiast': 1503, 'encourage': 1477, 'belt': 462, 'sources': 4092, 'habits': 2007, 'allowing': 195, 'lake': 2469, 'grows': 1990, 'moment': 2841, 'writer': 4953, 'energy': 1485, 'objects': 3004, 'talented': 4353, 'oldest': 3035, 'beam': 420, 'visit': 4760, 'patience': 3161, 'factor': 1608, 'teenage': 4391, 'houses': 2188, 'stretches': 4229, 'meets': 2766, 'repeat': 3611, 'insight': 2290, 'tightened': 4493, 'student': 4247, 'influence': 2273, 'interest': 2316, 'yrs': 4991, 'halogen': 2016, 'fate': 1646, 'merely': 2778, 'island': 2345, 'pony': 3298, 'brim': 595, 'ate': 320, 'hiking': 2131, 'flashlight': 1733, 'edc': 1432, 'football': 1787, 'holster': 2160, 'ar': 284, 'barrel': 395, 'toe': 4518, 'vision': 4759, 'darts': 1141, 'training': 4571, 'stretchy': 4230, 'ammo': 218, 'scope': 3791, 'walked': 4779, 'yards': 4969, 'gripping': 1978, 'guns': 2002, 'taurus': 4374, 'explaining': 1581, 'levers': 2557, 'field': 1680, 'g17': 1854, 'rides': 3666, 'yoga': 4979, 'surprises': 4311, 'shorts': 3931, 'active': 114, 'sports': 4129, 'glock': 1914, 'beginner': 444, 'buckle': 617, 'ladder': 2465, 'bat': 408, 'soccer': 4042, 'bolt': 527, 'action': 112, 'brass': 573, 'targets': 4368, 'maintain': 2686, 'compression': 948, 'swim': 4326, 'builds': 627, 'music': 2891, 'reel': 3564, 'emergencies': 1466, 'accuracy': 105, 'bench': 464, 'catches': 726, 'harness': 2046, 'tire': 4507, 'helmet': 2101, 'ocean': 3015, 'fox': 1813, 'occasions': 3011, 'shock': 3920, 'doctor': 1314, 'rounds': 3718, 'supposedly': 4302, 'realism': 3525, 'bore': 538, 'lenses': 2545, 'thinks': 4455, 'truth': 4607, 'tracks': 4561, 'stood': 4198, 'backpacking': 365, 'st': 4145, 'shoot': 3925, 'pistol': 3241, 'slippers': 4011, 'bow': 555, 'wristband': 4950, 'dr': 1347, 'par': 3138, 'connections': 971, 'goal': 1921, 'goggles': 1925, 'north': 2979, 'tent': 4410, '32oz': 44, 'heel': 2096, 'riding': 3669, 'hill': 2133, 'lessons': 2548, 'activity': 116, 'watches': 4812, 'shooting': 3926, 'pellets': 3179, 'hd': 2064, 'exercises': 1563, 'lil': 2585, 'tee': 4389, 'tail': 4346, 'trek': 4587, 'explanation': 1583, 'hammock': 2018, 'bull': 633, 'hurting': 2211, 'tires': 4509, 'vehicle': 4725, 'strobe': 4235, 'tension': 4409, 'language': 2475, 'golf': 1929, 'score': 3792, 'technique': 4386, 'award': 352, 'text': 4421, 'soles': 4057, 'era': 1516, 'que': 3472, 'students': 4248, 'samsung': 3755, '38': 50, 'situations': 3979, 'deer': 1176, 'ignore': 2224, 'ankle': 237, 'laser': 2483, 'leds': 2531, 'horses': 2179, 'bear': 422, 'surgery': 4308, 'rider': 3665, '9mm': 74, 'ipod': 2341, 'fears': 1657, 'teacher': 4378, 'loops': 2638, 'indoors': 2268, 'fm': 1768, 'hike': 2130, 'snugly': 4039, 'stretched': 4228, 'leader': 2511, 'appealing': 266, 'trainer': 4570, 'clue': 877, 'tactical': 4342, 'magazine': 2677, 'bass': 407, 'bracelet': 566, 'fitbit': 1719, 'vest': 4735, 'clamp': 833, 'river': 3683, 'dude': 1395, 'athletic': 321, 'land': 2473, 'voice': 4764, 'sights': 3952, 'buck': 615, 'olds': 3036, 'headband': 2070, 'pilot': 3233, 'adventure': 156, 'magic': 2678, 'tour': 4551, 'sex': 3879, 'dancing': 1132, 'volt': 4766, 'umbrella': 4645, 'climb': 858, 'extraordinary': 1595, 'toes': 4519, 'thighs': 4449, 'age': 171, 'collar': 891, 'grandmother': 1955, 'copy': 1026, 'zombie': 4996, 'accident': 98, 'viewer': 4748, 'sd': 3806, 'reset': 3630, 'expansion': 1566, 'park': 3143, 'winning': 4887, 'tempted': 4402, 'shifters': 3911, 'workouts': 4927, 'outdoors': 3084, 'activities': 115, 'classes': 839, 'saddle': 3743, 'pretend': 3367, 'lacking': 2463, 'god': 1923, 'disc': 1286, 'sisters': 3973, 'physical': 3214, 'manage': 2701, 'formula': 1803, 'basketball': 406, 'chalk': 751, 'train': 4568, 'witch': 4900, 'bark': 393, 'android': 226, 'calves': 668, 'cycling': 1122, 'drew': 1368, 'laughs': 2496, 'fights': 1684, 'determine': 1230, 'walker': 4780, 'leash': 2524, 'marine': 2711, 'locked': 2623, 'sneakers': 4036, 'receiver': 3542, 'watched': 4811, 'coverage': 1056, 'trs': 4601, 'facts': 1610, 'interested': 2317, 'blog': 513, 'moments': 2842, 'kits': 2436, '140lbs': 10, 'belly': 459, 'pedals': 3174, 'shelter': 3904, 'neighbors': 2936, 'cara': 698, 'claim': 830, 'ankles': 238, '175lbs': 15, 'baggy': 371, 'calf': 661, 'butt': 646, 'sword': 4333, 'hype': 2214, 'sockets': 4047, 'bluetooth': 520, 'headset': 2075, 'fence': 1674, 'strike': 4231, 'players': 3266, 'kindle': 2430, 'app': 262, 'spyderco': 4136, 'justify': 2403, 'judge': 2391, 'spanish': 4098, 'slap': 3993, 'buds': 621, 'street': 4224, 'boot': 536, 'clamps': 834, 'focus': 1770, 'descriptions': 1209, 'xxl': 4966, 'antenna': 247, 'competition': 933, 'highs': 2129, 'paired': 3129, 'garmin': 1870, 'gross': 1984, 'chew': 792, 'universal': 4666, 'navigate': 2918, '35': 46, 'buddy': 619, 'worthy': 4939, 'climbing': 859, 'laces': 2460, 'jordan': 2386, 'sufficient': 4278, 'xs': 4965, 'channel': 761, 'bottoms': 551, 'east': 1424, 'stakes': 4153, 'arch': 286, 'lee': 2532, 'credit': 1081, 'phones': 3209, 'tablet': 4340, 'waistband': 4772, 'chuck': 820, 'flap': 1730, 'darkness': 1139, 'involves': 2337, 'jersey': 2372, 'bladder': 500, 'topic': 4536, 'memories': 2771, 'henry': 2108, 'cares': 707, 'nikon': 2963, 'ballet': 379, 'production': 3397, 'brain': 569, 'matt': 2737, 'dock': 1313, 'jet': 2375, 'aunt': 341, 'susan': 4319, 'rainy': 3492, 'youngest': 4985, 'transmitter': 4574, 'zoom': 4999, 'financial': 1701, 'paul': 3165, 'buff': 622, 'firmware': 1714, 'returns': 3649, 'join': 2381, 'laptop': 2478, 'luggage': 2666, 'laptops': 2479, 'meter': 2785, 'intensity': 2311, 'dakota': 1126, 'joint': 2382, 'presents': 3362, 'exciting': 1561, 'cry': 1095, 'wrenches': 4948, 'coast': 881, 'chewing': 795, 'hero': 2111, 'dislike': 1301, 'cage': 658, 'sawyer': 3772, 'scarf': 3778, 'viewed': 4747, 'techniques': 4387, 'health': 2077, 'bob': 524, 'familiar': 1628, 'horse': 2178, 'sole': 4056, 'pi': 3215, 'spoiled': 4123, 'breathable': 582, 'nobody': 2967, 'cop': 1024, 'popular': 3307, 'needless': 2931, 'passing': 3154, 'explains': 1582, 'microphone': 2792, 'network': 2945, 'cliff': 856, 'monitors': 2845, 'strange': 4218, 'uncle': 4649, 'court': 1053, 'detector': 1229, 'trained': 4569, 'roman': 3702, 'explore': 1584, 'personality': 3199, 'african': 166, 'army': 293, 'voltage': 4767, 'annoyed': 242, 'keychain': 2416, 'rebel': 3539, 'zone': 4998, 'capable': 689, 'flashing': 1732, 'glued': 1919, 'researched': 3629, 'distinct': 1306, '34': 45, 'internet': 2322, 'dance': 1131, 'examples': 1552, 'introduces': 2330, 'violence': 4754, 'disturbing': 1308, 'talking': 4357, 'listening': 2602, 'gate': 1872, 'introduced': 2329, 'flops': 1758, 'gps': 1942, 'technology': 4388, 'eater': 1428, 'effects': 1444, 'phillips': 3207, 'freedom': 1820, '32d': 43, 'doh': 1321, 'lame': 2470, 'galaxy': 1859, 'attack': 328, 'concert': 956, 'youth': 4988, 'former': 1802, 'users': 4702, 'senior': 3848, 'advanced': 154, 'west': 4849, 'torso': 4541, 'unexpected': 4658, 'parent': 3141, 'creature': 1079, 'emotions': 1472, 'outlet': 3087, 'jackson': 2359, 'halfway': 2013, 'granted': 1959, 'billy': 487, 'severe': 3877, 'intense': 2310, 'welcome': 4843, 'shadow': 3883, 'flashlights': 1734, 'adapters': 129, 'lap': 2477, 'bus': 641, 'property': 3417, 'survive': 4316, 'babies': 359, 'addict': 132, 'twists': 4631, 'leggings': 2536, 'lg': 2559, 'bible': 478, 'loses': 2643, 'battle': 415, 'victim': 4741, 'recognize': 3550, 'lumens': 2668, 'bringing': 597, 'gritty': 1981, 'jumping': 2398, 'generation': 1882, 'nerf': 2939, 'attraction': 337, 'mm': 2827, 'montana': 2848, 'conclusion': 957, 'creepy': 1082, 'industry': 2270, 'names': 2906, 'standalone': 4155, 'foreign': 1793, 'barking': 394, 'readable': 3518, 'michael': 2789, 'collars': 892, 'micro': 2790, 'drug': 1387, 'challenges': 753, 'admittedly': 148, 'cancer': 677, 'rules': 3729, 'caring': 708, 'continuing': 1002, 'frank': 1816, 'mp3': 2878, 'spoiler': 4124, 'systems': 4335, 'reached': 3514, 'social': 4043, 'growth': 1991, '60s': 63, 'supporting': 4298, 'skills': 3987, 'sequences': 3859, 'connects': 974, 'oscar': 3074, 'zombies': 4997, 'bone': 530, 'hub': 2196, 'surge': 4307, 'distracting': 1307, 'cried': 1084, 'courage': 1051, 'pup': 3448, 'hex': 2119, 'predictable': 3349, 'speaking': 4103, 'act': 109, 'wifi': 4875, 'typing': 4637, 'ya': 4967, 'reputation': 3621, 'wireless': 4893, 'skill': 3986, 'smith': 4026, 'tug': 4614, 'gore': 1936, 'ad': 123, 'tummy': 4616, 'theres': 4441, 'talks': 4358, 'affected': 162, 'mechanic': 2759, 'wd': 4821, 'flick': 1749, 'laughed': 2494, 'dvds': 1408, 'goals': 1922, 'values': 4715, 'europe': 1530, 'vice': 4740, 'channels': 762, 'calm': 667, 'clarity': 836, 'describing': 1207, 'jack': 2357, 'rabbit': 3485, 'computers': 950, 'keyboard': 2415, 'petite': 3204, 'signal': 3954, 'magical': 2679, 'lies': 2566, 'alpha': 201, 'literature': 2607, 'consequences': 976, 'apps': 281, 'suffered': 4277, 'published': 3438, 'estate': 1526, 'shifter': 3910, 'ram': 3496, 'xp': 4964, 'ms': 2882, 'download': 1342, 'serial': 3860, 'irritation': 2343, 'stroller': 4236, 'dimmer': 1269, 'lord': 2641, 'default': 1177, 'charts': 778, 'emotionally': 1471, 'western': 4850, 'dawn': 1147, 'rechargeable': 3547, 'qualities': 3469, 'experiencing': 1576, 'heaven': 2091, 'engaged': 1486, 'sarah': 3760, 'mission': 2820, 'peter': 3203, 'films': 1696, 'lifestyle': 2568, 'anger': 228, 'dedicated': 1172, 'dying': 1409, 'rooting': 3710, 'ipad': 2339, 'pioneer': 3238, 'router': 3719, 'kevin': 2413, 'motherboard': 2859, 'cd': 737, 'hdd': 2065, 'sony': 4076, 'mic': 2788, 'hp': 2192, 'appeared': 269, 'mouse': 2869, 'canon': 684, 'eos': 1508, 'scenery': 3781, 'earphones': 1416, 'ssd': 4143, 'amp': 221, 'headphone': 2072, 'dslr': 1392, 'roku': 3692, 'dragon': 1349, 'macbook': 2672, 'ports': 3315, 'stylus': 4260, 'bose': 543, 'gb': 1876, 'modem': 2832, 'audio': 340, 'gaming': 1863, 'intel': 2306, 'muddy': 2884, 'recording': 3558, '1080p': 5, 'dell': 1194, 'hdmi': 2066, 'optical': 3060, 'sounded': 4086, 'laws': 2499, 'logitech': 2626, 'cpu': 1062, 'pencil': 3181, 'subwoofer': 4266, 'wired': 4892, 'ethernet': 1529, 'reader': 3519, 'recognized': 3551, 'd3200': 1123, 'belkin': 457, 'photographer': 3211, 'connector': 972, 'lenovo': 2543, 't3i': 4336, 'g1': 1853, 'immensely': 2237, 'jumps': 2399, '4k': 56, 'asus': 318, 'chicago': 797, 'role': 3693, 'capture': 694, 'unfolds': 4659, 'struggles': 4243, 'google': 1935, 'pages': 3121, 'technical': 4385, 'os': 3073, 'wi': 4870, 'fi': 1677, 'netflix': 2943, 'describes': 1206, 'ford': 1792, 'artists': 302, 'naked': 2903, 'mate': 2732, 'wiring': 4895, 'latest': 2492, 'killed': 2424, 'rom': 3701, 'menu': 2777, '80a': 70, 'graphic': 1960, 'discovery': 1294, 'arts': 303, 'artist': 301, 'treasure': 4581, 'outlets': 3088, 'captures': 696, 'memorable': 2770, 'overcome': 3095, 'dice': 1250, 'remarkable': 3598, 'focuses': 1772, 'songs': 4074, 'boss': 544, 'adapted': 127, 'theatre': 4431, 'satisfying': 3764, 'crying': 1096, 'dose': 1333, 'writes': 4955, 'express': 1586, 'masterpiece': 2726, 'depression': 1202, 'reaction': 3515, 'piano': 3216, 'christopher': 818, 'involving': 2338, 'voices': 4765, 'fed': 1660, 'surrounding': 4314, 'bond': 529, 'development': 1236, 'bizarre': 498, 'monsters': 2847, 'invested': 2334, 'precious': 3346, 'native': 2914, 'editing': 1437, 'guts': 2003, 'denon': 1197, 'storyline': 4212, 'mike': 2797, 'joe': 2379, 'song': 4073, 'unrealistic': 4673, 'soundtrack': 4089, 'importance': 2240, 'loyal': 2660, 'occupied': 3012, 'flood': 1755, 'titles': 4512, 'puppy': 3450, 'virus': 4757, 'ghosts': 1898, 'bridge': 589, 'attitude': 335, 'doc': 1312, 'focused': 1771, 'director': 1278, 'audience': 339, 'eats': 1430, 'bodies': 525, 'approach': 278, 'fashioned': 1642, 'mary': 2721, 'responsibility': 3638, 'talked': 4356, 'reminds': 3601, 'references': 3567, 'downloaded': 1343, 'decides': 1166, 'actions': 113, 'sam': 3752, 'imagination': 2231, 'filler': 1692, 'knowledge': 2451, 'pace': 3104, 'publisher': 3439, 'guitar': 2000, 'rollercoaster': 3698, 'stephen': 4183, 'sacrifice': 3741, 'police': 3293, 'documentary': 1315, 'cities': 827, 'mysterious': 2897, 'educational': 1440, 'ending': 1481, 'relate': 3582, 'comedy': 907, 'behavior': 448, 'introduction': 2331, 'puzzles': 3468, 'circumstances': 826, 'minds': 2806, 'grateful': 1964, 'islands': 2346, 'clues': 878, 'anxiety': 250, 'scene': 3780, 'deeply': 1175, 'presented': 3361, 'clay': 845, 'eric': 1517, 'delightful': 1189, 'editor': 1439, 'revolution': 3659, 'puzzle': 3467, 'wins': 4888, 'harry': 2048, 'president': 3363, 'suspense': 4321, 'performances': 3190, 'scenes': 3782, 'robert': 3686, 'acting': 111, 'gay': 1875, 'russell': 3736, 'actor': 117, 'intriguing': 2328, 'stories': 4208, 'plot': 3277, 'hearted': 2084, 'thriller': 4472, 'james': 2361, 'actors': 118, 'horror': 2177, 'episode': 1510, 'hilarious': 2132, 'episodes': 1511, 'script': 3804, 'chemistry': 790, 'spirit': 4118, 'believable': 453, 'violent': 4755, 'writers': 4954, 'sci': 3787, 'teaches': 4379, 'drama': 1352, 'british': 600, 'journey': 2388, 'personalities': 3198, 'potter': 3329, 'fairy': 1620, 'paced': 3105, 'childhood': 802, 'roles': 3694, 'revenge': 3652, 'moral': 2853, 'fantasy': 1636, 'relationship': 3584, 'murder': 2888, 'chapter': 763, 'humorous': 2201, 'juliette': 2394, 'directing': 1274, 'adaptation': 126, 'detective': 1228, 'provoking': 3436, 'fiction': 1678, 'heartwarming': 2086, 'romance': 3703, 'jaws': 2368, 'scott': 3793, 'couples': 1050, 'sequel': 3857, 'laughing': 2495, 'costumes': 1039, 'glimpse': 1913, 'wwii': 4960, 'remake': 3597, 'cinematography': 822, 'christian': 815, 'plots': 3278, 'crime': 1085, 'genre': 1886, 'comic': 913, 'liberal': 2561, 'twilight': 4626, 'inspirational': 2292, 'portrayal': 3313, 'haunted': 2058, 'mysteries': 2896, 'adams': 125, 'marriage': 2717, 'singing': 3969, 'hollywood': 2159, 'subtitles': 4264, 'sheriff': 3907, 'continuation': 998, 'alike': 188, 'chris': 814, 'grandfather': 1952, 'pee': 3175, 'bruce': 607, 'jamie': 2362, 'victims': 4742, 'jennifer': 2370, 'nick': 2958, 'intelligent': 2308, 'fascinating': 1640, 'historical': 2142, 'animation': 235, 'adam': 124, 'suspenseful': 4322, 'london': 2629, 'brutal': 611, 'vampire': 4717, 'interaction': 2314, 'depressing': 1201, 'classics': 841, 'chick': 798, 'prayer': 3344, 'actress': 119, 'animated': 234, 'prequel': 3358, 'george': 1890, 'narration': 2907, 'thrilling': 4474, 'mythology': 2899, 'entertained': 1500, 'topics': 4537, 'martin': 2720, 'teen': 4390, 'chase': 779, 'engaging': 1487, 'redeeming': 3561, 'interviews': 2324, 'intrigued': 2327, 'melissa': 2767, 'satire': 3762, 'brothers': 604, 'likeable': 2580, 'nudity': 2995, 'conflict': 963, 'dean': 1157, 'jones': 2385, 'talent': 4352, 'elizabeth': 1461, 'anne': 241, 'kate': 2404, 'religious': 3592, 'julia': 2393, 'disease': 1296, 'anime': 236, 'wit': 4899, 'engrossing': 1490, '20th': 29, 'olivia': 3037, 'hes': 2116, 'william': 4878, 'beliefs': 452, 'narrative': 2908, 'learns': 2523, 'washington': 4806, 'academy': 90, 'interact': 2312, 'witty': 4905, 'survivors': 4318, 'tale': 4351, 'dialogue': 1243, 'sexual': 3880, 'jr': 2390, 'soldiers': 4055, 'liam': 2560, 'compelling': 932, 'inspiring': 2294, 'filmed': 1695, 'vaughn': 4721, 'producers': 3395, 'sean': 3812, 'angst': 231, 'drugs': 1388, 'daniel': 1135, 'demons': 1196, 'demon': 1195, 'outcome': 3082, 'emotional': 1470, 'friendship': 1830, 'relationships': 3585, 'government': 1941, 'emotion': 1469, 'mrs': 2881, 'alex': 185, 'tales': 4354, 'japanese': 2364, 'charlie': 774, 'possibility': 3318, 'jessica': 2373, 'trilogy': 4595, 'marry': 2719, 'debut': 1159, 'endearing': 1479, 'premise': 3355, 'empire': 1474, 'brave': 574, 'supernatural': 4293, 'professor': 3400, 'civil': 829, 'significance': 3956, 'likable': 2578, 'excitement': 1560, 'secret': 3823, 'discovers': 1293, 'commentary': 916, 'manages': 2704, 'tragedy': 4564, 'riveting': 3684, 'prince': 3380, 'storytelling': 4213, 'billionaire': 486, 'thomas': 4460, 'pregnant': 3354, 'heroes': 2112, 'enjoyment': 1495, 'installment': 2299, 'soldier': 4054, 'contrived': 1004, 'passion': 3155, 'rights': 3673, 'cliffhanger': 857, 'saga': 3748, 'banter': 387, 'duke': 1397, 'jason': 2367, 'murderer': 2890, 'sentence': 3853, 'portrayed': 3314, 'charles': 773, 'secrets': 3824, 'biting': 496, 'opera': 3051, 'simon': 3965, 'captivating': 693, 'thrillers': 4473, 'reread': 3626, 'christians': 816, 'religion': 3591, 'gang': 1864, 'richard': 3662, 'dreams': 1363, 'convincing': 1014, 'mental': 2774, 'vampires': 4718, 'villain': 4752, 'universe': 4667, 'stephanie': 4182, 'alien': 187, 'viewers': 4749, 'spoilers': 4125, 'david': 1146, 'rawhide': 3509, 'themes': 4435, 'alcoholic': 183, 'accomplish': 102, 'individuals': 2266, 'kidnapped': 2421, 'political': 3295, 'attacked': 329, 'creatures': 1080, 'repetitive': 3613, 'josh': 2387, 'begins': 447, 'spiritual': 4120, 'divorce': 1310, 'imaginative': 2232, 'innocent': 2284, 'ryan': 3740, 'paranormal': 3140, 'roberts': 3687, 'enemy': 1484, 'murdered': 2889, 'dealt': 1156, 'seemingly': 3835, 'figures': 1687, 'erin': 1518, 'biography': 488, 'academic': 89, 'culture': 1101, 'jane': 2363, 'victoria': 4743, 'mistakes': 2822, 'insights': 2291, 'protagonist': 3420, 'struggling': 4244, 'adventures': 157, 'heartbreaking': 2083, 'bunny': 637, 'loyalty': 2661, 'humans': 2199, 'officer': 3026, 'realizes': 3530, 'fbi': 1655, 'agent': 172, 'concepts': 953, 'understands': 4655, 'interacted': 2313, 'screenwriter': 3799, 'ethan': 1528, 'convince': 1012, 'revealed': 3651, 'boxer': 560, 'pacific': 3106, 'evolution': 1547, 'interview': 2323, 'nation': 2912, 'asks': 309, 'novels': 2992, 'fictional': 1679, 'parker': 3144, 'emma': 1468, 'turmoil': 4617, 'believes': 456, 'anna': 240, 'legal': 2535, 'arc': 285, 'university': 4668, 'barbie': 389, 'werewolf': 4848, 'cowboy': 1060, 'jerk': 2371, 'mc': 2745, 'kitten': 2437, 'heroine': 2113, 'beings': 451, 'danielle': 1136, 'happiness': 2039, 'responsible': 3639, 'passionate': 3156, 'flowed': 1761, 'foster': 1807, 'birth': 491, 'guilty': 1999, 'lawyer': 2500, 'comprehensive': 947, 'lucy': 2665, 'affair': 160, 'kong': 2454, 'katie': 2405, 'narrator': 2909, 'emperor': 1473, 'plotted': 3279, 'progressed': 3405, 'spirits': 4119, 'nurse': 2999, 'abusive': 87, 'dragons': 1350, 'breed': 584, 'ann': 239, 'doubting': 1338, 'bully': 634, 'abilities': 77, 'rebecca': 3538, 'abrupt': 82, 'tootlemania': 4534, 'jake': 2360, 'resource': 3634, 'cole': 889, 'pearls': 3173, 'authors': 344, 'diana': 1246, 'holly': 2158, 'paw': 3166, 'erotic': 1519, 'toni': 4527, 'mia': 2787, 'porter': 3311, 'gabriel': 1855, 'saws': 3771, 'earrings': 1417, 'dewalt': 1241, 'cfl': 747, 'headlamp': 2071, 'incandescent': 2251, 'gfci': 1896, 'fixtures': 1728, 'electrician': 1455, 'makita': 2697, 'fluorescent': 1764, 'milwaukee': 2803, 'aquarium': 283, 'schlage': 3785, 'tidy': 4487, 'puppies': 3449, 'feeder': 1663, 'paragraph': 3139, 'ticks': 4486, 'chewer': 794, 'retriever': 3645, 'paws': 3167, 'crate': 1070, 'squeaker': 4139, 'chewed': 793, 'maltese': 2699, 'yorkie': 4981, 'kittens': 2438, 'harnesses': 2047, 'fleas': 1745, 'squeakers': 4140, 'grooming': 1983, 'chews': 796, 'flea': 1744, 'catnip': 729, 'diarrhea': 1248, 'fetch': 1675, 'urine': 4690, 'digestive': 1264, 'interactive': 2315, 'newspaper': 2953, 'strategy': 4221, 'readers': 3520, 'steamy': 4179, 'typos': 4638, 'dom': 1327, 'finn': 1711, 'novella': 2991, 'dynamics': 1410, 'amish': 217, 'cora': 1027, 'rosanna': 3712, 'illustrations': 2227, 'alana': 180, 'hea': 2068, 'chapters': 764, 'pov': 3335, 'noah': 2966, 'gentry': 1888, 'prose': 3419, 'netgalley': 2944, 'blake': 503, 'cassie': 720, 'levi': 2558, 'betrayal': 473, 'literary': 2606, 'dresden': 1364, 'diary': 1249, 'nora': 2976, 'clans': 835, 'patterson': 3164, 'grisham': 1980, 'doug': 1339, 'kinsella': 2433, 'trains': 4572, 'sorcerer': 4079, 'lego': 2537, 'legos': 2538, 'brio': 599, 'playset': 3269, 'tamiya': 4361, 'duplo': 1401, 'necklace': 2927, 'leapfrog': 2519, 'sandals': 3758, 'bras': 572, '36d': 48, 'dressy': 1367, 'sandal': 3757, 'sneaker': 4035}\n",
      "  (0, 3368)\t0.3569261308872444\n",
      "  (0, 2350)\t0.13106028861321334\n",
      "  (0, 910)\t0.35043903749721833\n",
      "  (0, 4734)\t0.39825958561137026\n",
      "  (0, 225)\t0.1166936913904338\n",
      "  (0, 4256)\t0.38840949047092765\n",
      "  (0, 2676)\t0.31795795775598445\n",
      "  (0, 4844)\t0.24157364658229488\n",
      "  (0, 4458)\t0.13838770770696165\n",
      "  (0, 2651)\t0.4805446120175971\n",
      "  (1, 4972)\t0.2853429246682723\n",
      "  (1, 3019)\t0.1221559128018681\n",
      "  (1, 1049)\t0.29343275837814503\n",
      "  (1, 1788)\t0.1218461587392234\n",
      "  (1, 2807)\t0.41047573119138897\n",
      "  (1, 2008)\t0.18943529431811182\n",
      "  (1, 4722)\t0.25662183671490857\n",
      "  (1, 3071)\t0.3800186272334531\n",
      "  (1, 4429)\t0.08527650158846996\n",
      "  (1, 1831)\t0.2203127906041104\n",
      "  (1, 4681)\t0.5098010695982591\n",
      "  (1, 1966)\t0.1598713768787146\n",
      "  (1, 2350)\t0.1035901936775536\n",
      "  (1, 2651)\t0.18991149018646752\n",
      "  (2, 1665)\t0.24270219519055944\n",
      "  :\t:\n",
      "  (40411, 2746)\t0.028995522311717082\n",
      "  (40411, 287)\t0.08014442721204015\n",
      "  (40411, 4445)\t0.047467735997182986\n",
      "  (40411, 440)\t0.060195814749327566\n",
      "  (40411, 2981)\t0.07823951259014181\n",
      "  (40411, 2993)\t0.03225730071920475\n",
      "  (40411, 2850)\t0.040552991745520184\n",
      "  (40411, 2059)\t0.07546086125044046\n",
      "  (40411, 2344)\t0.05474172770699045\n",
      "  (40411, 645)\t0.018454347248066265\n",
      "  (40411, 4513)\t0.18764831568720902\n",
      "  (40411, 2190)\t0.06203306731811011\n",
      "  (40411, 3039)\t0.14660999236083175\n",
      "  (40411, 1665)\t0.03693763744565692\n",
      "  (40411, 2633)\t0.07056350746651353\n",
      "  (40411, 361)\t0.10687771595061854\n",
      "  (40411, 2894)\t0.0876662483306758\n",
      "  (40411, 3019)\t0.060929256549017465\n",
      "  (40411, 1788)\t0.09116213486991662\n",
      "  (40411, 4722)\t0.03199963343289679\n",
      "  (40411, 4429)\t0.20203860941010326\n",
      "  (40411, 1966)\t0.01993526942999295\n",
      "  (40411, 2350)\t0.0645862461932087\n",
      "  (40411, 910)\t0.1726956516806003\n",
      "  (40411, 225)\t0.161017964869762\n"
     ]
    }
   ],
   "source": [
    "#Chris Update\n",
    "vectorizer = TfidfVectorizer(max_features=5000)\n",
    "response = vectorizer.fit_transform(df['comments'])\n",
    "print(len(vectorizer.vocabulary_))\n",
    "print(vectorizer.vocabulary_)\n",
    "print(response)"
   ]
  },
  {
   "cell_type": "code",
   "execution_count": 31,
   "metadata": {},
   "outputs": [],
   "source": [
    "target_var  = 'type'\n",
    "feature_var = ['category', 'rating', 'comments'] \n",
    "\n",
    "X = df[feature_var]\n",
    "Y = df[target_var]\n",
    "\n",
    "X_train, X_test, Y_train, Y_test = train_test_split(X, Y, test_size=0.3, shuffle=True, random_state=101)\n"
   ]
  },
  {
   "cell_type": "code",
   "execution_count": 32,
   "metadata": {},
   "outputs": [
    {
     "name": "stdout",
     "output_type": "stream",
     "text": [
      "(28288, 3)\n",
      "(12124, 3)\n",
      "(28288,)\n",
      "(12124,)\n"
     ]
    }
   ],
   "source": [
    "print(X_train.shape)\n",
    "print(X_test.shape)\n",
    "print(Y_train.shape)\n",
    "print(Y_test.shape)"
   ]
  },
  {
   "cell_type": "code",
   "execution_count": 33,
   "metadata": {},
   "outputs": [
    {
     "data": {
      "text/plain": [
       "<seaborn.axisgrid.PairGrid at 0x202b144ae60>"
      ]
     },
     "execution_count": 33,
     "metadata": {},
     "output_type": "execute_result"
    },
    {
     "data": {
      "image/png": "[encoded data removed]",
      "text/plain": [
       "<Figure size 250x250 with 2 Axes>"
      ]
     },
     "metadata": {},
     "output_type": "display_data"
    }
   ],
   "source": [
    "feature_var = ['category', 'rating']\n",
    "sns.pairplot(df[feature_var])"
   ]
  }
 ],
 "metadata": {
  "kernelspec": {
   "display_name": "MSCI446",
   "language": "python",
   "name": "python3"
  },
  "language_info": {
   "codemirror_mode": {
    "name": "ipython",
    "version": 3
   },
   "file_extension": ".py",
   "mimetype": "text/x-python",
   "name": "python",
   "nbconvert_exporter": "python",
   "pygments_lexer": "ipython3",
   "version": "3.11.5"
  }
 },
 "nbformat": 4,
 "nbformat_minor": 2
}
